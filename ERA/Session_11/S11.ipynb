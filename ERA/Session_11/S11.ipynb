{
  "nbformat": 4,
  "nbformat_minor": 0,
  "metadata": {
    "colab": {
      "provenance": [],
      "gpuType": "T4"
    },
    "kernelspec": {
      "name": "python3",
      "display_name": "Python 3"
    },
    "language_info": {
      "name": "python"
    },
    "accelerator": "GPU"
  },
  "cells": [
    {
      "cell_type": "code",
      "source": [
        "!git clone https://github.com/paishowstopper/TSAI.git\n",
        "%cd TSAI/ERA/Session_11"
      ],
      "metadata": {
        "colab": {
          "base_uri": "https://localhost:8080/"
        },
        "id": "7iGDCsDurLoH",
        "outputId": "d84805ef-9cab-446e-991e-fddcc32467c8"
      },
      "execution_count": null,
      "outputs": [
        {
          "output_type": "stream",
          "name": "stdout",
          "text": [
            "Cloning into 'TSAI'...\n",
            "remote: Enumerating objects: 1289, done.\u001b[K\n",
            "remote: Counting objects: 100% (306/306), done.\u001b[K\n",
            "remote: Compressing objects: 100% (243/243), done.\u001b[K\n",
            "remote: Total 1289 (delta 74), reused 255 (delta 46), pack-reused 983\u001b[K\n",
            "Receiving objects: 100% (1289/1289), 17.46 MiB | 22.16 MiB/s, done.\n",
            "Resolving deltas: 100% (388/388), done.\n",
            "/content/TSAI/ERA/Session_11\n"
          ]
        }
      ]
    },
    {
      "cell_type": "markdown",
      "source": [
        "## Install Dependencies"
      ],
      "metadata": {
        "id": "qNTlmirZNRzW"
      }
    },
    {
      "cell_type": "code",
      "source": [
        "!pip install -q torchsummary\n",
        "!pip install -q albumentations\n",
        "!pip install -q torch_lr_finder\n",
        "!pip install -q grad-cam==1.4.6"
      ],
      "metadata": {
        "id": "QdFYJGg76eMK",
        "colab": {
          "base_uri": "https://localhost:8080/"
        },
        "outputId": "6330ddb4-d196-43a8-851e-ed7fa8455514"
      },
      "execution_count": null,
      "outputs": [
        {
          "output_type": "stream",
          "name": "stdout",
          "text": [
            "\u001b[2K     \u001b[90m━━━━━━━━━━━━━━━━━━━━━━━━━━━━━━━━━━━━━━━━\u001b[0m \u001b[32m7.8/7.8 MB\u001b[0m \u001b[31m15.0 MB/s\u001b[0m eta \u001b[36m0:00:00\u001b[0m\n",
            "\u001b[?25h  Installing build dependencies ... \u001b[?25l\u001b[?25hdone\n",
            "  Getting requirements to build wheel ... \u001b[?25l\u001b[?25hdone\n",
            "  Preparing metadata (pyproject.toml) ... \u001b[?25l\u001b[?25hdone\n",
            "  Building wheel for grad-cam (pyproject.toml) ... \u001b[?25l\u001b[?25hdone\n"
          ]
        }
      ]
    },
    {
      "cell_type": "markdown",
      "source": [
        "## Model Summary"
      ],
      "metadata": {
        "id": "EJk9w_DqNZ0G"
      }
    },
    {
      "cell_type": "code",
      "source": [
        "from src.utils import model_summary\n",
        "model_summary()"
      ],
      "metadata": {
        "colab": {
          "base_uri": "https://localhost:8080/"
        },
        "id": "D-9RTeJD5s0i",
        "outputId": "7f8e55ef-da4f-4d51-d464-bbc656a6e20a"
      },
      "execution_count": null,
      "outputs": [
        {
          "output_type": "stream",
          "name": "stdout",
          "text": [
            "----------------------------------------------------------------\n",
            "        Layer (type)               Output Shape         Param #\n",
            "================================================================\n",
            "            Conv2d-1           [-1, 64, 32, 32]           1,728\n",
            "       BatchNorm2d-2           [-1, 64, 32, 32]             128\n",
            "            Conv2d-3           [-1, 64, 32, 32]          36,864\n",
            "       BatchNorm2d-4           [-1, 64, 32, 32]             128\n",
            "            Conv2d-5           [-1, 64, 32, 32]          36,864\n",
            "       BatchNorm2d-6           [-1, 64, 32, 32]             128\n",
            "        BasicBlock-7           [-1, 64, 32, 32]               0\n",
            "            Conv2d-8           [-1, 64, 32, 32]          36,864\n",
            "       BatchNorm2d-9           [-1, 64, 32, 32]             128\n",
            "           Conv2d-10           [-1, 64, 32, 32]          36,864\n",
            "      BatchNorm2d-11           [-1, 64, 32, 32]             128\n",
            "       BasicBlock-12           [-1, 64, 32, 32]               0\n",
            "           Conv2d-13          [-1, 128, 16, 16]          73,728\n",
            "      BatchNorm2d-14          [-1, 128, 16, 16]             256\n",
            "           Conv2d-15          [-1, 128, 16, 16]         147,456\n",
            "      BatchNorm2d-16          [-1, 128, 16, 16]             256\n",
            "           Conv2d-17          [-1, 128, 16, 16]           8,192\n",
            "      BatchNorm2d-18          [-1, 128, 16, 16]             256\n",
            "       BasicBlock-19          [-1, 128, 16, 16]               0\n",
            "           Conv2d-20          [-1, 128, 16, 16]         147,456\n",
            "      BatchNorm2d-21          [-1, 128, 16, 16]             256\n",
            "           Conv2d-22          [-1, 128, 16, 16]         147,456\n",
            "      BatchNorm2d-23          [-1, 128, 16, 16]             256\n",
            "       BasicBlock-24          [-1, 128, 16, 16]               0\n",
            "           Conv2d-25            [-1, 256, 8, 8]         294,912\n",
            "      BatchNorm2d-26            [-1, 256, 8, 8]             512\n",
            "           Conv2d-27            [-1, 256, 8, 8]         589,824\n",
            "      BatchNorm2d-28            [-1, 256, 8, 8]             512\n",
            "           Conv2d-29            [-1, 256, 8, 8]          32,768\n",
            "      BatchNorm2d-30            [-1, 256, 8, 8]             512\n",
            "       BasicBlock-31            [-1, 256, 8, 8]               0\n",
            "           Conv2d-32            [-1, 256, 8, 8]         589,824\n",
            "      BatchNorm2d-33            [-1, 256, 8, 8]             512\n",
            "           Conv2d-34            [-1, 256, 8, 8]         589,824\n",
            "      BatchNorm2d-35            [-1, 256, 8, 8]             512\n",
            "       BasicBlock-36            [-1, 256, 8, 8]               0\n",
            "           Conv2d-37            [-1, 512, 4, 4]       1,179,648\n",
            "      BatchNorm2d-38            [-1, 512, 4, 4]           1,024\n",
            "           Conv2d-39            [-1, 512, 4, 4]       2,359,296\n",
            "      BatchNorm2d-40            [-1, 512, 4, 4]           1,024\n",
            "           Conv2d-41            [-1, 512, 4, 4]         131,072\n",
            "      BatchNorm2d-42            [-1, 512, 4, 4]           1,024\n",
            "       BasicBlock-43            [-1, 512, 4, 4]               0\n",
            "           Conv2d-44            [-1, 512, 4, 4]       2,359,296\n",
            "      BatchNorm2d-45            [-1, 512, 4, 4]           1,024\n",
            "           Conv2d-46            [-1, 512, 4, 4]       2,359,296\n",
            "      BatchNorm2d-47            [-1, 512, 4, 4]           1,024\n",
            "       BasicBlock-48            [-1, 512, 4, 4]               0\n",
            "           Linear-49                   [-1, 10]           5,130\n",
            "================================================================\n",
            "Total params: 11,173,962\n",
            "Trainable params: 11,173,962\n",
            "Non-trainable params: 0\n",
            "----------------------------------------------------------------\n",
            "Input size (MB): 0.01\n",
            "Forward/backward pass size (MB): 11.25\n",
            "Params size (MB): 42.63\n",
            "Estimated Total Size (MB): 53.89\n",
            "----------------------------------------------------------------\n"
          ]
        }
      ]
    },
    {
      "cell_type": "markdown",
      "source": [
        "## Training"
      ],
      "metadata": {
        "id": "8W84Y36kNepq"
      }
    },
    {
      "cell_type": "code",
      "source": [
        "!python train.py"
      ],
      "metadata": {
        "colab": {
          "base_uri": "https://localhost:8080/"
        },
        "id": "tjAe7zfYtfJB",
        "outputId": "cb7f6168-4fd7-4890-c5cf-7445b293c6aa"
      },
      "execution_count": null,
      "outputs": [
        {
          "output_type": "stream",
          "name": "stdout",
          "text": [
            "Downloading https://www.cs.toronto.edu/~kriz/cifar-10-python.tar.gz to ../data/cifar-10-python.tar.gz\n",
            "100% 170498071/170498071 [00:02<00:00, 80590160.85it/s]\n",
            "Extracting ../data/cifar-10-python.tar.gz to ../data\n",
            "Files already downloaded and verified\n",
            "Epoch 0, Learning Rate: 0.000479\n",
            "Train: Loss=1.5773 Batch_id=97 Accuracy=37.31: 100% 98/98 [00:41<00:00,  2.37it/s]\n",
            "Test set: Loss: 0.0040, Accuracy: 3710/10000 (37.10%)\n",
            "\n",
            "Epoch 1, Learning Rate: 0.00998259509202454\n",
            "Train: Loss=1.2418 Batch_id=97 Accuracy=48.47: 100% 98/98 [00:40<00:00,  2.43it/s]\n",
            "Test set: Loss: 0.0029, Accuracy: 5025/10000 (50.25%)\n",
            "\n",
            "Epoch 2, Learning Rate: 0.01948619018404908\n",
            "Train: Loss=0.9970 Batch_id=97 Accuracy=57.90: 100% 98/98 [00:41<00:00,  2.37it/s]\n",
            "Test set: Loss: 0.0022, Accuracy: 6133/10000 (61.33%)\n",
            "\n",
            "Epoch 3, Learning Rate: 0.028989785276073616\n",
            "Train: Loss=0.8569 Batch_id=97 Accuracy=64.12: 100% 98/98 [00:41<00:00,  2.34it/s]\n",
            "Test set: Loss: 0.0020, Accuracy: 6763/10000 (67.63%)\n",
            "\n",
            "Epoch 4, Learning Rate: 0.03849338036809816\n",
            "Train: Loss=0.9033 Batch_id=97 Accuracy=67.73: 100% 98/98 [00:42<00:00,  2.33it/s]\n",
            "Test set: Loss: 0.0027, Accuracy: 6119/10000 (61.19%)\n",
            "\n",
            "Epoch 5, Learning Rate: 0.0478674182244898\n",
            "Train: Loss=0.7751 Batch_id=97 Accuracy=71.63: 100% 98/98 [00:41<00:00,  2.35it/s]\n",
            "Test set: Loss: 0.0039, Accuracy: 5240/10000 (52.40%)\n",
            "\n",
            "Epoch 6, Learning Rate: 0.044674404224489796\n",
            "Train: Loss=0.5745 Batch_id=97 Accuracy=74.76: 100% 98/98 [00:41<00:00,  2.34it/s]\n",
            "Test set: Loss: 0.0016, Accuracy: 7312/10000 (73.12%)\n",
            "\n",
            "Epoch 7, Learning Rate: 0.041481390224489795\n",
            "Train: Loss=0.5533 Batch_id=97 Accuracy=77.28: 100% 98/98 [00:41<00:00,  2.34it/s]\n",
            "Test set: Loss: 0.0013, Accuracy: 7727/10000 (77.27%)\n",
            "\n",
            "Epoch 8, Learning Rate: 0.038288376224489794\n",
            "Train: Loss=0.6315 Batch_id=97 Accuracy=79.05: 100% 98/98 [00:41<00:00,  2.34it/s]\n",
            "Test set: Loss: 0.0012, Accuracy: 8025/10000 (80.25%)\n",
            "\n",
            "Epoch 9, Learning Rate: 0.03509536222448979\n",
            "Train: Loss=0.5282 Batch_id=97 Accuracy=80.61: 100% 98/98 [00:41<00:00,  2.35it/s]\n",
            "Test set: Loss: 0.0010, Accuracy: 8281/10000 (82.81%)\n",
            "\n",
            "Epoch 10, Learning Rate: 0.03190234822448979\n",
            "Train: Loss=0.4483 Batch_id=97 Accuracy=82.33: 100% 98/98 [00:42<00:00,  2.32it/s]\n",
            "Test set: Loss: 0.0009, Accuracy: 8453/10000 (84.53%)\n",
            "\n",
            "Epoch 11, Learning Rate: 0.028709334224489794\n",
            "Train: Loss=0.5446 Batch_id=97 Accuracy=83.77: 100% 98/98 [00:41<00:00,  2.35it/s]\n",
            "Test set: Loss: 0.0010, Accuracy: 8388/10000 (83.88%)\n",
            "\n",
            "Epoch 12, Learning Rate: 0.025516320224489793\n",
            "Train: Loss=0.4750 Batch_id=97 Accuracy=84.84: 100% 98/98 [00:41<00:00,  2.35it/s]\n",
            "Test set: Loss: 0.0011, Accuracy: 8327/10000 (83.27%)\n",
            "\n",
            "Epoch 13, Learning Rate: 0.022323306224489792\n",
            "Train: Loss=0.3535 Batch_id=97 Accuracy=86.49: 100% 98/98 [00:42<00:00,  2.32it/s]\n",
            "Test set: Loss: 0.0008, Accuracy: 8732/10000 (87.32%)\n",
            "\n",
            "Epoch 14, Learning Rate: 0.01913029222448979\n",
            "Train: Loss=0.2907 Batch_id=97 Accuracy=87.46: 100% 98/98 [00:41<00:00,  2.35it/s]\n",
            "Test set: Loss: 0.0008, Accuracy: 8740/10000 (87.40%)\n",
            "\n",
            "Epoch 15, Learning Rate: 0.015937278224489794\n",
            "Train: Loss=0.3166 Batch_id=97 Accuracy=88.76: 100% 98/98 [00:41<00:00,  2.35it/s]\n",
            "Test set: Loss: 0.0007, Accuracy: 8905/10000 (89.05%)\n",
            "\n",
            "Epoch 16, Learning Rate: 0.012744264224489793\n",
            "Train: Loss=0.2650 Batch_id=97 Accuracy=89.81: 100% 98/98 [00:41<00:00,  2.35it/s]\n",
            "Test set: Loss: 0.0006, Accuracy: 8981/10000 (89.81%)\n",
            "\n",
            "Epoch 17, Learning Rate: 0.009551250224489792\n",
            "Train: Loss=0.2253 Batch_id=97 Accuracy=91.32: 100% 98/98 [00:42<00:00,  2.32it/s]\n",
            "Test set: Loss: 0.0006, Accuracy: 8974/10000 (89.74%)\n",
            "\n",
            "Epoch 18, Learning Rate: 0.006358236224489798\n",
            "Train: Loss=0.2441 Batch_id=97 Accuracy=92.69: 100% 98/98 [00:41<00:00,  2.35it/s]\n",
            "Test set: Loss: 0.0006, Accuracy: 9017/10000 (90.17%)\n",
            "\n",
            "Epoch 19, Learning Rate: 0.003165222224489797\n",
            "Train: Loss=0.1654 Batch_id=97 Accuracy=93.74: 100% 98/98 [00:42<00:00,  2.33it/s]\n",
            "Test set: Loss: 0.0006, Accuracy: 9089/10000 (90.89%)\n",
            "\n",
            "[INFO] Saving model to: results/ResNet18.pth\n"
          ]
        }
      ]
    },
    {
      "cell_type": "code",
      "source": [],
      "metadata": {
        "id": "gJyhhkNkPEzq"
      },
      "execution_count": null,
      "outputs": []
    }
  ]
}