{
  "nbformat": 4,
  "nbformat_minor": 0,
  "metadata": {
    "accelerator": "GPU",
    "colab": {
      "name": "Session_11.ipynb",
      "provenance": [],
      "collapsed_sections": [],
      "include_colab_link": true
    },
    "kernelspec": {
      "display_name": "Python 3",
      "name": "python3"
    },
    "language_info": {
      "codemirror_mode": {
        "name": "ipython",
        "version": 3
      },
      "file_extension": ".py",
      "mimetype": "text/x-python",
      "name": "python",
      "nbconvert_exporter": "python",
      "pygments_lexer": "ipython3",
      "version": "3.6.6"
    },
    "widgets": {
      "application/vnd.jupyter.widget-state+json": {
        "20936dcf80a34daa893f8ccd390b9e6a": {
          "model_module": "@jupyter-widgets/controls",
          "model_name": "HBoxModel",
          "state": {
            "_view_name": "HBoxView",
            "_dom_classes": [],
            "_model_name": "HBoxModel",
            "_view_module": "@jupyter-widgets/controls",
            "_model_module_version": "1.5.0",
            "_view_count": null,
            "_view_module_version": "1.5.0",
            "box_style": "",
            "layout": "IPY_MODEL_8ec558bc52c943af98cd6b180612e54d",
            "_model_module": "@jupyter-widgets/controls",
            "children": [
              "IPY_MODEL_46ade0ea59da418ca6dd8313075b79c4",
              "IPY_MODEL_d38986ba17e0471fa58496cd0b33a1e7"
            ]
          }
        },
        "8ec558bc52c943af98cd6b180612e54d": {
          "model_module": "@jupyter-widgets/base",
          "model_name": "LayoutModel",
          "state": {
            "_view_name": "LayoutView",
            "grid_template_rows": null,
            "right": null,
            "justify_content": null,
            "_view_module": "@jupyter-widgets/base",
            "overflow": null,
            "_model_module_version": "1.2.0",
            "_view_count": null,
            "flex_flow": null,
            "width": null,
            "min_width": null,
            "border": null,
            "align_items": null,
            "bottom": null,
            "_model_module": "@jupyter-widgets/base",
            "top": null,
            "grid_column": null,
            "overflow_y": null,
            "overflow_x": null,
            "grid_auto_flow": null,
            "grid_area": null,
            "grid_template_columns": null,
            "flex": null,
            "_model_name": "LayoutModel",
            "justify_items": null,
            "grid_row": null,
            "max_height": null,
            "align_content": null,
            "visibility": null,
            "align_self": null,
            "height": null,
            "min_height": null,
            "padding": null,
            "grid_auto_rows": null,
            "grid_gap": null,
            "max_width": null,
            "order": null,
            "_view_module_version": "1.2.0",
            "grid_template_areas": null,
            "object_position": null,
            "object_fit": null,
            "grid_auto_columns": null,
            "margin": null,
            "display": null,
            "left": null
          }
        },
        "46ade0ea59da418ca6dd8313075b79c4": {
          "model_module": "@jupyter-widgets/controls",
          "model_name": "FloatProgressModel",
          "state": {
            "_view_name": "ProgressView",
            "style": "IPY_MODEL_1faf79dfe37e4d5c84804ee81ec3d584",
            "_dom_classes": [],
            "description": "100%",
            "_model_name": "FloatProgressModel",
            "bar_style": "success",
            "max": 2352,
            "_view_module": "@jupyter-widgets/controls",
            "_model_module_version": "1.5.0",
            "value": 2352,
            "_view_count": null,
            "_view_module_version": "1.5.0",
            "orientation": "horizontal",
            "min": 0,
            "description_tooltip": null,
            "_model_module": "@jupyter-widgets/controls",
            "layout": "IPY_MODEL_4ae27ec906e04cda8734142696f24b69"
          }
        },
        "d38986ba17e0471fa58496cd0b33a1e7": {
          "model_module": "@jupyter-widgets/controls",
          "model_name": "HTMLModel",
          "state": {
            "_view_name": "HTMLView",
            "style": "IPY_MODEL_35ab260bf4834492a41d5131b663dc42",
            "_dom_classes": [],
            "description": "",
            "_model_name": "HTMLModel",
            "placeholder": "​",
            "_view_module": "@jupyter-widgets/controls",
            "_model_module_version": "1.5.0",
            "value": " 2352/2352 [15:05&lt;00:00,  2.60it/s]",
            "_view_count": null,
            "_view_module_version": "1.5.0",
            "description_tooltip": null,
            "_model_module": "@jupyter-widgets/controls",
            "layout": "IPY_MODEL_d9eafde66f3840a78ee11fd0dfbc3a99"
          }
        },
        "1faf79dfe37e4d5c84804ee81ec3d584": {
          "model_module": "@jupyter-widgets/controls",
          "model_name": "ProgressStyleModel",
          "state": {
            "_view_name": "StyleView",
            "_model_name": "ProgressStyleModel",
            "description_width": "initial",
            "_view_module": "@jupyter-widgets/base",
            "_model_module_version": "1.5.0",
            "_view_count": null,
            "_view_module_version": "1.2.0",
            "bar_color": null,
            "_model_module": "@jupyter-widgets/controls"
          }
        },
        "4ae27ec906e04cda8734142696f24b69": {
          "model_module": "@jupyter-widgets/base",
          "model_name": "LayoutModel",
          "state": {
            "_view_name": "LayoutView",
            "grid_template_rows": null,
            "right": null,
            "justify_content": null,
            "_view_module": "@jupyter-widgets/base",
            "overflow": null,
            "_model_module_version": "1.2.0",
            "_view_count": null,
            "flex_flow": null,
            "width": null,
            "min_width": null,
            "border": null,
            "align_items": null,
            "bottom": null,
            "_model_module": "@jupyter-widgets/base",
            "top": null,
            "grid_column": null,
            "overflow_y": null,
            "overflow_x": null,
            "grid_auto_flow": null,
            "grid_area": null,
            "grid_template_columns": null,
            "flex": null,
            "_model_name": "LayoutModel",
            "justify_items": null,
            "grid_row": null,
            "max_height": null,
            "align_content": null,
            "visibility": null,
            "align_self": null,
            "height": null,
            "min_height": null,
            "padding": null,
            "grid_auto_rows": null,
            "grid_gap": null,
            "max_width": null,
            "order": null,
            "_view_module_version": "1.2.0",
            "grid_template_areas": null,
            "object_position": null,
            "object_fit": null,
            "grid_auto_columns": null,
            "margin": null,
            "display": null,
            "left": null
          }
        },
        "35ab260bf4834492a41d5131b663dc42": {
          "model_module": "@jupyter-widgets/controls",
          "model_name": "DescriptionStyleModel",
          "state": {
            "_view_name": "StyleView",
            "_model_name": "DescriptionStyleModel",
            "description_width": "",
            "_view_module": "@jupyter-widgets/base",
            "_model_module_version": "1.5.0",
            "_view_count": null,
            "_view_module_version": "1.2.0",
            "_model_module": "@jupyter-widgets/controls"
          }
        },
        "d9eafde66f3840a78ee11fd0dfbc3a99": {
          "model_module": "@jupyter-widgets/base",
          "model_name": "LayoutModel",
          "state": {
            "_view_name": "LayoutView",
            "grid_template_rows": null,
            "right": null,
            "justify_content": null,
            "_view_module": "@jupyter-widgets/base",
            "overflow": null,
            "_model_module_version": "1.2.0",
            "_view_count": null,
            "flex_flow": null,
            "width": null,
            "min_width": null,
            "border": null,
            "align_items": null,
            "bottom": null,
            "_model_module": "@jupyter-widgets/base",
            "top": null,
            "grid_column": null,
            "overflow_y": null,
            "overflow_x": null,
            "grid_auto_flow": null,
            "grid_area": null,
            "grid_template_columns": null,
            "flex": null,
            "_model_name": "LayoutModel",
            "justify_items": null,
            "grid_row": null,
            "max_height": null,
            "align_content": null,
            "visibility": null,
            "align_self": null,
            "height": null,
            "min_height": null,
            "padding": null,
            "grid_auto_rows": null,
            "grid_gap": null,
            "max_width": null,
            "order": null,
            "_view_module_version": "1.2.0",
            "grid_template_areas": null,
            "object_position": null,
            "object_fit": null,
            "grid_auto_columns": null,
            "margin": null,
            "display": null,
            "left": null
          }
        }
      }
    }
  },
  "cells": [
    {
      "cell_type": "markdown",
      "metadata": {
        "id": "view-in-github",
        "colab_type": "text"
      },
      "source": [
        "<a href=\"https://colab.research.google.com/github/paishowstopper/TSAI/blob/main/EVA5/Session_11/Session_11.ipynb\" target=\"_parent\"><img src=\"https://colab.research.google.com/assets/colab-badge.svg\" alt=\"Open In Colab\"/></a>"
      ]
    },
    {
      "cell_type": "code",
      "metadata": {
        "id": "-yVpodAMpoCi"
      },
      "source": [
        "import torch\n",
        "import torch.nn as nn\n",
        "import torch.optim as optim\n",
        "import torch.backends.cudnn as cudnn\n",
        "from torch.optim.lr_scheduler import OneCycleLR"
      ],
      "execution_count": 1,
      "outputs": []
    },
    {
      "cell_type": "markdown",
      "metadata": {
        "id": "3QM9cV0ZIpPE"
      },
      "source": [
        "Uploaded files to colab before execution (Uploaded in \"framework\" folder in github)"
      ]
    },
    {
      "cell_type": "code",
      "metadata": {
        "id": "xxNhoFuiS0sZ"
      },
      "source": [
        "from model import BasicBlock, ResNetModified\n",
        "from datatransform import DataTransformation\n",
        "from dataloader import Loader\n",
        "from train import Train\n",
        "from test import Test\n",
        "import helper\n",
        "# Reference: https://github.com/davidtvs/pytorch-lr-finder\n",
        "from lr_finder import LRFinder"
      ],
      "execution_count": 2,
      "outputs": []
    },
    {
      "cell_type": "code",
      "metadata": {
        "colab": {
          "base_uri": "https://localhost:8080/"
        },
        "id": "OqUkj-paC9hX",
        "outputId": "4feb8fab-b7e4-43ee-c0af-4a6cd7bb44a8"
      },
      "source": [
        "device = torch.device(\"cuda\" if torch.cuda.is_available() else \"cpu\")\n",
        "device"
      ],
      "execution_count": 3,
      "outputs": [
        {
          "output_type": "execute_result",
          "data": {
            "text/plain": [
              "device(type='cuda')"
            ]
          },
          "metadata": {
            "tags": []
          },
          "execution_count": 3
        }
      ]
    },
    {
      "cell_type": "code",
      "metadata": {
        "colab": {
          "base_uri": "https://localhost:8080/"
        },
        "id": "D8Tjigo2poCl",
        "outputId": "fb2c018d-68ae-4b63-9e37-879aa37da8e4"
      },
      "source": [
        "transform = DataTransformation()\n",
        "#Different transforms for training and testing in this assignment\n",
        "trainTransform = transform.AlbumentationTrainTransform()\n",
        "testTransform = transform.AlbumentationTestTransform()\n",
        "\n",
        "loader = Loader(trainTransform, testTransform, 512, 4)\n",
        "#Going with the default variable values set in the data loader\n",
        "trainloader, testloader, classes = loader.CIFAR10Load()"
      ],
      "execution_count": 4,
      "outputs": [
        {
          "output_type": "stream",
          "text": [
            "Files already downloaded and verified\n"
          ],
          "name": "stdout"
        },
        {
          "output_type": "stream",
          "text": [
            "/usr/local/lib/python3.7/dist-packages/torch/utils/data/dataloader.py:477: UserWarning: This DataLoader will create 4 worker processes in total. Our suggested max number of worker in current system is 2, which is smaller than what this DataLoader is going to create. Please be aware that excessive worker creation might get DataLoader running slow or even freeze, lower the worker number to avoid potential slowness/freeze if necessary.\n",
            "  cpuset_checked))\n"
          ],
          "name": "stderr"
        },
        {
          "output_type": "stream",
          "text": [
            "Files already downloaded and verified\n"
          ],
          "name": "stdout"
        }
      ]
    },
    {
      "cell_type": "code",
      "metadata": {
        "colab": {
          "base_uri": "https://localhost:8080/",
          "height": 339
        },
        "id": "daA7bADhpoCo",
        "outputId": "b49b9832-c7bb-4ffb-b3a2-7882c9ec23de"
      },
      "source": [
        "# Show random training images (default 4)\n",
        "helper.DisplayImages(trainloader, classes)"
      ],
      "execution_count": 5,
      "outputs": [
        {
          "output_type": "stream",
          "text": [
            "/usr/local/lib/python3.7/dist-packages/torch/utils/data/dataloader.py:477: UserWarning: This DataLoader will create 4 worker processes in total. Our suggested max number of worker in current system is 2, which is smaller than what this DataLoader is going to create. Please be aware that excessive worker creation might get DataLoader running slow or even freeze, lower the worker number to avoid potential slowness/freeze if necessary.\n",
            "  cpuset_checked))\n"
          ],
          "name": "stderr"
        },
        {
          "output_type": "stream",
          "text": [
            " frog   dog   dog   cat\n"
          ],
          "name": "stdout"
        },
        {
          "output_type": "display_data",
          "data": {
            "image/png": "[encoded data removed]",
            "text/plain": [
              "<Figure size 432x288 with 1 Axes>"
            ]
          },
          "metadata": {
            "tags": [],
            "needs_background": "light"
          }
        }
      ]
    },
    {
      "cell_type": "code",
      "metadata": {
        "colab": {
          "base_uri": "https://localhost:8080/",
          "height": 339
        },
        "id": "nizbsvw9poC6",
        "outputId": "80e3f060-b658-4d7d-949c-24717cb1c54e"
      },
      "source": [
        "# Show random testing images (default 4)\n",
        "helper.DisplayImages(testloader, classes)"
      ],
      "execution_count": 6,
      "outputs": [
        {
          "output_type": "stream",
          "text": [
            "/usr/local/lib/python3.7/dist-packages/torch/utils/data/dataloader.py:477: UserWarning: This DataLoader will create 4 worker processes in total. Our suggested max number of worker in current system is 2, which is smaller than what this DataLoader is going to create. Please be aware that excessive worker creation might get DataLoader running slow or even freeze, lower the worker number to avoid potential slowness/freeze if necessary.\n",
            "  cpuset_checked))\n"
          ],
          "name": "stderr"
        },
        {
          "output_type": "stream",
          "text": [
            "horse   dog   car plane\n"
          ],
          "name": "stdout"
        },
        {
          "output_type": "display_data",
          "data": {
            "image/png": "[encoded data removed]",
            "text/plain": [
              "<Figure size 432x288 with 1 Axes>"
            ]
          },
          "metadata": {
            "tags": [],
            "needs_background": "light"
          }
        }
      ]
    },
    {
      "cell_type": "code",
      "metadata": {
        "id": "5dti-avkVUcK"
      },
      "source": [
        "model = ResNetModified(BasicBlock, [2, 2, 2, 2]).to(device)\n",
        "model = torch.nn.DataParallel(model)\n",
        "cudnn.benchmark = True"
      ],
      "execution_count": 7,
      "outputs": []
    },
    {
      "cell_type": "code",
      "metadata": {
        "colab": {
          "base_uri": "https://localhost:8080/"
        },
        "id": "x9hoX2SDFjcK",
        "outputId": "155094ed-89af-420a-8391-02b13ece428d"
      },
      "source": [
        "#Display model summary\n",
        "helper.DisplayModelSummary(model, input_size=(3, 32, 32))"
      ],
      "execution_count": 8,
      "outputs": [
        {
          "output_type": "stream",
          "text": [
            "----------------------------------------------------------------\n",
            "        Layer (type)               Output Shape         Param #\n",
            "================================================================\n",
            "            Conv2d-1           [-1, 64, 32, 32]           1,728\n",
            "       BatchNorm2d-2           [-1, 64, 32, 32]             128\n",
            "              ReLU-3           [-1, 64, 32, 32]               0\n",
            "            Conv2d-4          [-1, 128, 32, 32]          73,728\n",
            "         MaxPool2d-5          [-1, 128, 16, 16]               0\n",
            "       BatchNorm2d-6          [-1, 128, 16, 16]             256\n",
            "              ReLU-7          [-1, 128, 16, 16]               0\n",
            "            Conv2d-8          [-1, 128, 16, 16]         147,456\n",
            "       BatchNorm2d-9          [-1, 128, 16, 16]             256\n",
            "             ReLU-10          [-1, 128, 16, 16]               0\n",
            "           Conv2d-11          [-1, 128, 16, 16]         147,456\n",
            "      BatchNorm2d-12          [-1, 128, 16, 16]             256\n",
            "             ReLU-13          [-1, 128, 16, 16]               0\n",
            "           Conv2d-14          [-1, 256, 16, 16]         294,912\n",
            "        MaxPool2d-15            [-1, 256, 8, 8]               0\n",
            "      BatchNorm2d-16            [-1, 256, 8, 8]             512\n",
            "             ReLU-17            [-1, 256, 8, 8]               0\n",
            "           Conv2d-18            [-1, 512, 8, 8]       1,179,648\n",
            "        MaxPool2d-19            [-1, 512, 4, 4]               0\n",
            "      BatchNorm2d-20            [-1, 512, 4, 4]           1,024\n",
            "             ReLU-21            [-1, 512, 4, 4]               0\n",
            "           Conv2d-22            [-1, 512, 4, 4]       2,359,296\n",
            "      BatchNorm2d-23            [-1, 512, 4, 4]           1,024\n",
            "             ReLU-24            [-1, 512, 4, 4]               0\n",
            "           Conv2d-25            [-1, 512, 4, 4]       2,359,296\n",
            "      BatchNorm2d-26            [-1, 512, 4, 4]           1,024\n",
            "             ReLU-27            [-1, 512, 4, 4]               0\n",
            "        MaxPool2d-28            [-1, 512, 1, 1]               0\n",
            "           Linear-29                   [-1, 10]           5,120\n",
            "   ResNetModified-30                   [-1, 10]               0\n",
            "================================================================\n",
            "Total params: 6,573,120\n",
            "Trainable params: 6,573,120\n",
            "Non-trainable params: 0\n",
            "----------------------------------------------------------------\n",
            "Input size (MB): 0.01\n",
            "Forward/backward pass size (MB): 6.44\n",
            "Params size (MB): 25.07\n",
            "Estimated Total Size (MB): 31.53\n",
            "----------------------------------------------------------------\n",
            "None\n"
          ],
          "name": "stdout"
        }
      ]
    },
    {
      "cell_type": "code",
      "metadata": {
        "id": "kkuRfo1IpoC3"
      },
      "source": [
        "epochs = 24\n",
        "criterion = nn.CrossEntropyLoss()"
      ],
      "execution_count": 9,
      "outputs": []
    },
    {
      "cell_type": "code",
      "metadata": {
        "colab": {
          "base_uri": "https://localhost:8080/",
          "height": 436,
          "referenced_widgets": [
            "20936dcf80a34daa893f8ccd390b9e6a",
            "8ec558bc52c943af98cd6b180612e54d",
            "46ade0ea59da418ca6dd8313075b79c4",
            "d38986ba17e0471fa58496cd0b33a1e7",
            "1faf79dfe37e4d5c84804ee81ec3d584",
            "4ae27ec906e04cda8734142696f24b69",
            "35ab260bf4834492a41d5131b663dc42",
            "d9eafde66f3840a78ee11fd0dfbc3a99"
          ]
        },
        "id": "RVv4dIo7myDD",
        "outputId": "2587f116-5a93-44a6-be78-d6a352e8ed0d"
      },
      "source": [
        "optimizer = optim.SGD(model.parameters(), lr=1e-4, momentum=0.9, weight_decay=1e-4)\n",
        "lr_finder = LRFinder(model, optimizer, criterion, device=device)\n",
        "lr_finder.range_test(trainloader, start_lr=1e-4, end_lr=10, num_iter=len(trainloader)*epochs, step_mode='linear')\n",
        "lr_finder.plot()\n",
        "lr_finder.reset()"
      ],
      "execution_count": 13,
      "outputs": [
        {
          "output_type": "stream",
          "text": [
            "/usr/local/lib/python3.7/dist-packages/torch/utils/data/dataloader.py:477: UserWarning: This DataLoader will create 4 worker processes in total. Our suggested max number of worker in current system is 2, which is smaller than what this DataLoader is going to create. Please be aware that excessive worker creation might get DataLoader running slow or even freeze, lower the worker number to avoid potential slowness/freeze if necessary.\n",
            "  cpuset_checked))\n"
          ],
          "name": "stderr"
        },
        {
          "output_type": "display_data",
          "data": {
            "application/vnd.jupyter.widget-view+json": {
              "model_id": "20936dcf80a34daa893f8ccd390b9e6a",
              "version_minor": 0,
              "version_major": 2
            },
            "text/plain": [
              "HBox(children=(FloatProgress(value=0.0, max=2352.0), HTML(value='')))"
            ]
          },
          "metadata": {
            "tags": []
          }
        },
        {
          "output_type": "stream",
          "text": [
            "\n",
            "Learning rate search finished. See the graph with {finder_name}.plot()\n",
            "LR suggestion: steepest gradient\n",
            "Suggested LR: 5.54E-02\n"
          ],
          "name": "stdout"
        },
        {
          "output_type": "display_data",
          "data": {
            "image/png": "[encoded data removed]",
            "text/plain": [
              "<Figure size 432x288 with 1 Axes>"
            ]
          },
          "metadata": {
            "tags": [],
            "needs_background": "light"
          }
        }
      ]
    },
    {
      "cell_type": "code",
      "metadata": {
        "id": "lumnzXcEU0xe"
      },
      "source": [
        "optimizer = optim.SGD(model.parameters(), lr=0.05, momentum=0.9)\n",
        "scheduler = OneCycleLR(optimizer, max_lr=0.05, epochs=epochs, steps_per_epoch=len(trainloader), pct_start=5/epochs, \n",
        "                       anneal_strategy='linear', div_factor=10.0, final_div_factor=1.0)"
      ],
      "execution_count": 10,
      "outputs": []
    },
    {
      "cell_type": "code",
      "metadata": {
        "colab": {
          "base_uri": "https://localhost:8080/"
        },
        "id": "KP7y15HZIUt7",
        "outputId": "a759c78d-6f30-405f-a194-6684d883f338"
      },
      "source": [
        "#Training\n",
        "Train(trainloader, model, criterion, optimizer, scheduler, device, epochs).train()"
      ],
      "execution_count": 11,
      "outputs": [
        {
          "output_type": "stream",
          "text": [
            "/usr/local/lib/python3.7/dist-packages/torch/utils/data/dataloader.py:477: UserWarning: This DataLoader will create 4 worker processes in total. Our suggested max number of worker in current system is 2, which is smaller than what this DataLoader is going to create. Please be aware that excessive worker creation might get DataLoader running slow or even freeze, lower the worker number to avoid potential slowness/freeze if necessary.\n",
            "  cpuset_checked))\n"
          ],
          "name": "stderr"
        },
        {
          "output_type": "stream",
          "text": [
            "[1,    98] loss: 213.176\n",
            "Accuracy:  27.47\n",
            "[2,    98] loss: 197.465\n",
            "Accuracy:  44.624\n",
            "[3,    98] loss: 182.298\n",
            "Accuracy:  60.328\n",
            "[4,    98] loss: 174.849\n",
            "Accuracy:  67.84\n",
            "[5,    98] loss: 170.246\n",
            "Accuracy:  72.55\n",
            "[6,    98] loss: 166.377\n",
            "Accuracy:  76.536\n",
            "[7,    98] loss: 163.689\n",
            "Accuracy:  79.298\n",
            "[8,    98] loss: 161.854\n",
            "Accuracy:  81.156\n",
            "[9,    98] loss: 159.719\n",
            "Accuracy:  83.342\n",
            "[10,    98] loss: 158.406\n",
            "Accuracy:  84.7\n",
            "[11,    98] loss: 157.169\n",
            "Accuracy:  85.954\n",
            "[12,    98] loss: 155.920\n",
            "Accuracy:  87.328\n",
            "[13,    98] loss: 155.005\n",
            "Accuracy:  88.176\n",
            "[14,    98] loss: 153.935\n",
            "Accuracy:  89.318\n",
            "[15,    98] loss: 153.050\n",
            "Accuracy:  90.216\n",
            "[16,    98] loss: 152.396\n",
            "Accuracy:  90.936\n",
            "[17,    98] loss: 151.504\n",
            "Accuracy:  91.814\n",
            "[18,    98] loss: 150.914\n",
            "Accuracy:  92.438\n",
            "[19,    98] loss: 150.273\n",
            "Accuracy:  93.154\n",
            "[20,    98] loss: 149.591\n",
            "Accuracy:  93.79\n",
            "[21,    98] loss: 149.056\n",
            "Accuracy:  94.326\n",
            "[22,    98] loss: 148.601\n",
            "Accuracy:  94.758\n",
            "[23,    98] loss: 147.928\n",
            "Accuracy:  95.402\n",
            "[24,    98] loss: 147.457\n",
            "Accuracy:  95.956\n"
          ],
          "name": "stdout"
        },
        {
          "output_type": "execute_result",
          "data": {
            "text/plain": [
              "([213.1755723953247,\n",
              "  197.4652543067932,\n",
              "  182.29813826084137,\n",
              "  174.84887325763702,\n",
              "  170.24604260921478,\n",
              "  166.37678027153015,\n",
              "  163.68932282924652,\n",
              "  161.85377550125122,\n",
              "  159.7191845178604,\n",
              "  158.4058359861374,\n",
              "  157.1689659357071,\n",
              "  155.92041873931885,\n",
              "  155.00517058372498,\n",
              "  153.93494284152985,\n",
              "  153.04990935325623,\n",
              "  152.3960666656494,\n",
              "  151.50376546382904,\n",
              "  150.9139895439148,\n",
              "  150.27304553985596,\n",
              "  149.5906639099121,\n",
              "  149.0561761856079,\n",
              "  148.60084342956543,\n",
              "  147.9278210401535,\n",
              "  147.45727384090424],\n",
              " [27.47,\n",
              "  44.624,\n",
              "  60.328,\n",
              "  67.84,\n",
              "  72.55,\n",
              "  76.536,\n",
              "  79.298,\n",
              "  81.156,\n",
              "  83.342,\n",
              "  84.7,\n",
              "  85.954,\n",
              "  87.328,\n",
              "  88.176,\n",
              "  89.318,\n",
              "  90.216,\n",
              "  90.936,\n",
              "  91.814,\n",
              "  92.438,\n",
              "  93.154,\n",
              "  93.79,\n",
              "  94.326,\n",
              "  94.758,\n",
              "  95.402,\n",
              "  95.956])"
            ]
          },
          "metadata": {
            "tags": []
          },
          "execution_count": 11
        }
      ]
    },
    {
      "cell_type": "code",
      "metadata": {
        "colab": {
          "base_uri": "https://localhost:8080/"
        },
        "id": "ABRIDW3lpoDA",
        "outputId": "72495914-28f4-4e0b-fd88-d53b3d644b70"
      },
      "source": [
        "#Testing\n",
        "Test(testloader, model, criterion, device).test()"
      ],
      "execution_count": 17,
      "outputs": [
        {
          "output_type": "stream",
          "text": [
            "/usr/local/lib/python3.7/dist-packages/torch/utils/data/dataloader.py:477: UserWarning: This DataLoader will create 4 worker processes in total. Our suggested max number of worker in current system is 2, which is smaller than what this DataLoader is going to create. Please be aware that excessive worker creation might get DataLoader running slow or even freeze, lower the worker number to avoid potential slowness/freeze if necessary.\n",
            "  cpuset_checked))\n"
          ],
          "name": "stderr"
        },
        {
          "output_type": "stream",
          "text": [
            "Accuracy of the network on the 10000 test images: 88 %\n"
          ],
          "name": "stdout"
        },
        {
          "output_type": "execute_result",
          "data": {
            "text/plain": [
              "([tensor(1.5713, device='cuda:0'),\n",
              "  tensor(1.6012, device='cuda:0'),\n",
              "  tensor(1.5854, device='cuda:0'),\n",
              "  tensor(1.5741, device='cuda:0'),\n",
              "  tensor(1.5639, device='cuda:0'),\n",
              "  tensor(1.5830, device='cuda:0'),\n",
              "  tensor(1.5838, device='cuda:0'),\n",
              "  tensor(1.5849, device='cuda:0'),\n",
              "  tensor(1.5872, device='cuda:0'),\n",
              "  tensor(1.5681, device='cuda:0'),\n",
              "  tensor(1.5838, device='cuda:0'),\n",
              "  tensor(1.5833, device='cuda:0'),\n",
              "  tensor(1.5747, device='cuda:0'),\n",
              "  tensor(1.5729, device='cuda:0'),\n",
              "  tensor(1.5783, device='cuda:0'),\n",
              "  tensor(1.5767, device='cuda:0'),\n",
              "  tensor(1.5754, device='cuda:0'),\n",
              "  tensor(1.6026, device='cuda:0'),\n",
              "  tensor(1.5733, device='cuda:0'),\n",
              "  tensor(1.5538, device='cuda:0')],\n",
              " [88.671875,\n",
              "  87.59765625,\n",
              "  87.5,\n",
              "  87.841796875,\n",
              "  88.2421875,\n",
              "  88.18359375,\n",
              "  88.03013392857143,\n",
              "  87.98828125,\n",
              "  87.99913194444444,\n",
              "  88.06640625,\n",
              "  88.06818181818181,\n",
              "  88.037109375,\n",
              "  88.07091346153847,\n",
              "  88.11383928571429,\n",
              "  88.13802083333333,\n",
              "  88.14697265625,\n",
              "  88.17784926470588,\n",
              "  88.02083333333333,\n",
              "  88.07565789473684,\n",
              "  88.14])"
            ]
          },
          "metadata": {
            "tags": []
          },
          "execution_count": 17
        }
      ]
    },
    {
      "cell_type": "code",
      "metadata": {
        "id": "pDNFuDEDpoDG",
        "colab": {
          "base_uri": "https://localhost:8080/"
        },
        "outputId": "93cb344f-6b47-4235-fb3a-33dbaae19493"
      },
      "source": [
        "helper.DisplayClassAccuracy(model, testloader, classes, device)"
      ],
      "execution_count": 19,
      "outputs": [
        {
          "output_type": "stream",
          "text": [
            "/usr/local/lib/python3.7/dist-packages/torch/utils/data/dataloader.py:477: UserWarning: This DataLoader will create 4 worker processes in total. Our suggested max number of worker in current system is 2, which is smaller than what this DataLoader is going to create. Please be aware that excessive worker creation might get DataLoader running slow or even freeze, lower the worker number to avoid potential slowness/freeze if necessary.\n",
            "  cpuset_checked))\n"
          ],
          "name": "stderr"
        },
        {
          "output_type": "stream",
          "text": [
            "Accuracy of plane : 85 %\n",
            "Accuracy of   car : 100 %\n",
            "Accuracy of  bird : 100 %\n",
            "Accuracy of   cat : 100 %\n",
            "Accuracy of  deer : 69 %\n",
            "Accuracy of   dog : 66 %\n",
            "Accuracy of  frog : 100 %\n",
            "Accuracy of horse : 100 %\n",
            "Accuracy of  ship : 66 %\n",
            "Accuracy of truck : 85 %\n"
          ],
          "name": "stdout"
        }
      ]
    }
  ]
}