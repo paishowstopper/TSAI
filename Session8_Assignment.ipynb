{
  "nbformat": 4,
  "nbformat_minor": 0,
  "metadata": {
    "colab": {
      "name": "Session8_Assignment.ipynb",
      "provenance": [],
      "collapsed_sections": [],
      "authorship_tag": "ABX9TyPd6Y0jsELfFcNDYE2ERiRw",
      "include_colab_link": true
    },
    "kernelspec": {
      "name": "python3",
      "display_name": "Python 3"
    }
  },
  "cells": [
    {
      "cell_type": "markdown",
      "metadata": {
        "id": "view-in-github",
        "colab_type": "text"
      },
      "source": [
        "<a href=\"https://colab.research.google.com/github/paishowstopper/TSAI/blob/main/Session8_Assignment.ipynb\" target=\"_parent\"><img src=\"https://colab.research.google.com/assets/colab-badge.svg\" alt=\"Open In Colab\"/></a>"
      ]
    },
    {
      "cell_type": "code",
      "metadata": {
        "colab": {
          "base_uri": "https://localhost:8080/"
        },
        "id": "NmIpTPG9hxou",
        "outputId": "052c6a05-9afe-4dc2-f8a3-efe3f4270e73"
      },
      "source": [
        "#1 write a python program to remove punctuations from a string\r\n",
        "punctuations = '''!()-[]{};:'\"\\,<>./?@#$%^&*_~'''\r\n",
        "input = \"Hi! This;: is() a random- sentence [{with}] punctuations~$%? added \\ all / over the place with <no> meaning& Just to test some code_\"\r\n",
        "input_no_punctuations = ''\r\n",
        "\r\n",
        "for char in input:\r\n",
        "  if char not in punctuations:\r\n",
        "    input_no_punctuations += char\r\n",
        "\r\n",
        "print(input_no_punctuations)"
      ],
      "execution_count": 1,
      "outputs": [
        {
          "output_type": "stream",
          "text": [
            "Hi This is a random sentence with punctuations added  all  over the place with no meaning Just to test some code\n"
          ],
          "name": "stdout"
        }
      ]
    },
    {
      "cell_type": "code",
      "metadata": {
        "colab": {
          "base_uri": "https://localhost:8080/"
        },
        "id": "QY1BBUIjy8bp",
        "outputId": "bf0cc7b9-6b0c-49b3-bbb2-88a4f30614d0"
      },
      "source": [
        "#2 write a program to check if a word is a palindrome\r\n",
        "input = 'saippuakivikauppias'\r\n",
        "ip_lower = input.lower()\r\n",
        "ip_reversed = reversed(ip_lower)\r\n",
        "if list(ip_lower) == list(ip_reversed):\r\n",
        "  print(input, 'is a palindrome')\r\n",
        "else:\r\n",
        "  print(input, 'is not a palindrome')"
      ],
      "execution_count": 2,
      "outputs": [
        {
          "output_type": "stream",
          "text": [
            "saippuakivikauppias is a palindrome\n"
          ],
          "name": "stdout"
        }
      ]
    },
    {
      "cell_type": "code",
      "metadata": {
        "colab": {
          "base_uri": "https://localhost:8080/"
        },
        "id": "dvATxS472UTV",
        "outputId": "d2bc340d-39a7-431d-b85b-2d3f71c04fb5"
      },
      "source": [
        "#3 write a program to find factors of a number\r\n",
        "input = 366\r\n",
        "for i in range(1, input+1):\r\n",
        "  if input % i == 0:\r\n",
        "    print(i)"
      ],
      "execution_count": 3,
      "outputs": [
        {
          "output_type": "stream",
          "text": [
            "1\n",
            "2\n",
            "3\n",
            "6\n",
            "61\n",
            "122\n",
            "183\n",
            "366\n"
          ],
          "name": "stdout"
        }
      ]
    },
    {
      "cell_type": "code",
      "metadata": {
        "colab": {
          "base_uri": "https://localhost:8080/"
        },
        "id": "GzV_bQisA740",
        "outputId": "1a170ee3-ea8f-4071-a6ad-e222d7c89c30"
      },
      "source": [
        "#4 write a program to write the multiplication table of a number\r\n",
        "input = 3\r\n",
        "for i in range(1, 11):\r\n",
        "  print(input, 'x', i, '=', input*i)"
      ],
      "execution_count": 4,
      "outputs": [
        {
          "output_type": "stream",
          "text": [
            "3 x 1 = 3\n",
            "3 x 2 = 6\n",
            "3 x 3 = 9\n",
            "3 x 4 = 12\n",
            "3 x 5 = 15\n",
            "3 x 6 = 18\n",
            "3 x 7 = 21\n",
            "3 x 8 = 24\n",
            "3 x 9 = 27\n",
            "3 x 10 = 30\n"
          ],
          "name": "stdout"
        }
      ]
    },
    {
      "cell_type": "code",
      "metadata": {
        "colab": {
          "base_uri": "https://localhost:8080/"
        },
        "id": "v0DsDCpxBZNi",
        "outputId": "07042c28-69c9-4349-9d69-e0a9ebfaabbd"
      },
      "source": [
        "#5 write a program to write the factorial of a number\r\n",
        "input = 7\r\n",
        "result = 1\r\n",
        "for i in range(1, input+1):\r\n",
        "  result = result*i\r\n",
        "\r\n",
        "print(result)"
      ],
      "execution_count": 5,
      "outputs": [
        {
          "output_type": "stream",
          "text": [
            "5040\n"
          ],
          "name": "stdout"
        }
      ]
    },
    {
      "cell_type": "code",
      "metadata": {
        "colab": {
          "base_uri": "https://localhost:8080/"
        },
        "id": "PGEQUpRHCFIL",
        "outputId": "0b542bcd-599f-402e-c388-35ed03d0acc6"
      },
      "source": [
        "#6 write a program to check if a number is prime\r\n",
        "input = 31\r\n",
        "for i in range(2, input):\r\n",
        "  if input % i == 0:\r\n",
        "    print(input, 'is not a prime number')\r\n",
        "    break\r\n",
        "else:\r\n",
        "  print(input, 'is a prime number')"
      ],
      "execution_count": 6,
      "outputs": [
        {
          "output_type": "stream",
          "text": [
            "31 is a prime number\n"
          ],
          "name": "stdout"
        }
      ]
    },
    {
      "cell_type": "code",
      "metadata": {
        "colab": {
          "base_uri": "https://localhost:8080/"
        },
        "id": "wcIPCI_wDyg5",
        "outputId": "0cdc8d5b-e6c8-41be-d2e3-e195891cee0d"
      },
      "source": [
        "#7 write a program to calculate the area of a triangle\r\n",
        "a = 5\r\n",
        "b = 6\r\n",
        "c = 7\r\n",
        "\r\n",
        "s = (a + b + c)/2\r\n",
        "\r\n",
        "area = (s*(s-a)*(s-b)*(s-c)) ** 0.5\r\n",
        "print(area)"
      ],
      "execution_count": 7,
      "outputs": [
        {
          "output_type": "stream",
          "text": [
            "14.696938456699069\n"
          ],
          "name": "stdout"
        }
      ]
    },
    {
      "cell_type": "code",
      "metadata": {
        "colab": {
          "base_uri": "https://localhost:8080/"
        },
        "id": "GA0LX4M6FPQi",
        "outputId": "655a87d1-508a-48d8-dd3f-79bfa9c15968"
      },
      "source": [
        "#8 write a program to print the Armstrong numbers in an interval\r\n",
        "x = 0\r\n",
        "y = 500\r\n",
        "\r\n",
        "for i in range(x, y):\r\n",
        "  temp = i\r\n",
        "  sum = 0\r\n",
        "  while temp > 0:\r\n",
        "    digit = temp%10\r\n",
        "    sum += digit ** 3\r\n",
        "    temp //= 10\r\n",
        "  if i == sum:\r\n",
        "    print(i)"
      ],
      "execution_count": 8,
      "outputs": [
        {
          "output_type": "stream",
          "text": [
            "0\n",
            "1\n",
            "153\n",
            "370\n",
            "371\n",
            "407\n"
          ],
          "name": "stdout"
        }
      ]
    },
    {
      "cell_type": "code",
      "metadata": {
        "colab": {
          "base_uri": "https://localhost:8080/"
        },
        "id": "QzN4NFuXGyxX",
        "outputId": "f0c5a3f8-f68c-404c-c89c-09f34f4c9431"
      },
      "source": [
        "#9 write a program to find the numbers in a list divisible by another number (using lambda)\r\n",
        "ip_list = [142, 14, 156, 678, 358, 987, 773]\r\n",
        "divisor = 17\r\n",
        "\r\n",
        "output = list(filter(lambda x: (x % divisor == 0), ip_list))\r\n",
        "\r\n",
        "print('Numbers divisible by ' + str(divisor) + ' are', output)"
      ],
      "execution_count": 9,
      "outputs": [
        {
          "output_type": "stream",
          "text": [
            "Numbers divisible by 17 are []\n"
          ],
          "name": "stdout"
        }
      ]
    },
    {
      "cell_type": "code",
      "metadata": {
        "colab": {
          "base_uri": "https://localhost:8080/"
        },
        "id": "mcVbRdI9GzFP",
        "outputId": "d68b8db1-7bce-4034-9633-cf4c2ce024ff"
      },
      "source": [
        "#10 write a program to show squares of n numbers (using lambda)\r\n",
        "n = 10\r\n",
        "\r\n",
        "output = list(map(lambda x: x ** 2, range(n)))\r\n",
        "\r\n",
        "for i in range(n):\r\n",
        "   print(output[i])"
      ],
      "execution_count": 10,
      "outputs": [
        {
          "output_type": "stream",
          "text": [
            "0\n",
            "1\n",
            "4\n",
            "9\n",
            "16\n",
            "25\n",
            "36\n",
            "49\n",
            "64\n",
            "81\n"
          ],
          "name": "stdout"
        }
      ]
    },
    {
      "cell_type": "code",
      "metadata": {
        "colab": {
          "base_uri": "https://localhost:8080/"
        },
        "id": "Zy6zZIINY4nS",
        "outputId": "923e96d2-dea0-487d-b35e-c5e2710b3afa"
      },
      "source": [
        "#11 write a program to check if an array is monotonic (increasing or decreasing)\r\n",
        "input = [11, 9, 8, 7, 7, 5]\r\n",
        "length = len(input)\r\n",
        "if (all(input[i] >= input[i+1] for i in range(length-1)) or all(input[i] <= input[i+1] for i in range(length-1))):\r\n",
        "  print(True)\r\n",
        "else:\r\n",
        "  print(False)"
      ],
      "execution_count": 11,
      "outputs": [
        {
          "output_type": "stream",
          "text": [
            "True\n"
          ],
          "name": "stdout"
        }
      ]
    },
    {
      "cell_type": "code",
      "metadata": {
        "colab": {
          "base_uri": "https://localhost:8080/"
        },
        "id": "qgpyMUWsae0J",
        "outputId": "b07a6459-7a7b-4c53-eece-0c7d9d7aacbd"
      },
      "source": [
        "#12 write a function to convert a number from decimal to binary\r\n",
        "def convert(n):\r\n",
        "    if n > 1:\r\n",
        "        convert(n // 2)\r\n",
        "    print(n % 2, end='')\r\n",
        "\r\n",
        "convert(150)"
      ],
      "execution_count": 12,
      "outputs": [
        {
          "output_type": "stream",
          "text": [
            "10010110"
          ],
          "name": "stdout"
        }
      ]
    },
    {
      "cell_type": "code",
      "metadata": {
        "colab": {
          "base_uri": "https://localhost:8080/"
        },
        "id": "PfC2ogU9clZO",
        "outputId": "daebdb0c-bceb-43e2-9970-03ae5b01ea7e"
      },
      "source": [
        "#13 write a program to convert a list to string using list comprehension\r\n",
        "input = ['My', 'name', 'is', 'Mahesh', ',', 'I', 'am', 30, 'years', 'old', 'and', 'I', 'live', 'in', 'Bangalore'] \r\n",
        "\r\n",
        "string = ' '.join([str(i) for i in input]) \r\n",
        "  \r\n",
        "print(string)"
      ],
      "execution_count": 13,
      "outputs": [
        {
          "output_type": "stream",
          "text": [
            "My name is Mahesh , I am 30 years old and I live in Bangalore\n"
          ],
          "name": "stdout"
        }
      ]
    },
    {
      "cell_type": "code",
      "metadata": {
        "colab": {
          "base_uri": "https://localhost:8080/"
        },
        "id": "s6B3XqM_ejWz",
        "outputId": "78ded82c-801a-4824-84bd-83d3fc2e1715"
      },
      "source": [
        "#14 write a program to remove words of a specific length from a string\r\n",
        "\r\n",
        "input = 'The school of ai is the best school to learn AI'\r\n",
        "length = 5\r\n",
        "  \r\n",
        "temp = input.split() \r\n",
        "  \r\n",
        "output = list(filter(lambda elt: len(elt) != length, temp)) \r\n",
        "output = ' '.join(output) \r\n",
        "  \r\n",
        "print(output) "
      ],
      "execution_count": 14,
      "outputs": [
        {
          "output_type": "stream",
          "text": [
            "The school of ai is the best school to AI\n"
          ],
          "name": "stdout"
        }
      ]
    },
    {
      "cell_type": "code",
      "metadata": {
        "colab": {
          "base_uri": "https://localhost:8080/"
        },
        "id": "fvm3QHczejts",
        "outputId": "5b172d57-0830-481b-a8c9-e04dab66d887"
      },
      "source": [
        "#15 write a program to count the bidirectional pairs in a tuple\r\n",
        "input = [(5, 6), (1, 2), (6, 5), (1, 2), (6, 5), (2, 1), (3, 4), (6, 7), (7, 7), (7, 6)] \r\n",
        "  \r\n",
        "output = 0\r\n",
        "for index1 in range(0, len(input)): \r\n",
        "    for index2 in range(index1 + 1, len(input)): \r\n",
        "        if input[index2][0] == input[index1][1] and input[index2][1] == input[index1][0]: \r\n",
        "            output += 1\r\n",
        "  \r\n",
        "print(\"Number of Bidirectional pairs: \" + str(output)) "
      ],
      "execution_count": 15,
      "outputs": [
        {
          "output_type": "stream",
          "text": [
            "Number of Bidirectional pairs: 5\n"
          ],
          "name": "stdout"
        }
      ]
    },
    {
      "cell_type": "code",
      "metadata": {
        "colab": {
          "base_uri": "https://localhost:8080/"
        },
        "id": "a9ma3xwPgAfM",
        "outputId": "9fce1e6a-8d63-4bc6-fea8-3e5c16cc1296"
      },
      "source": [
        "#16 write a program extract string after nth occurrence of a specific character  \r\n",
        "input = 'theschoolofai'\r\n",
        "  \r\n",
        "c = 'o'\r\n",
        "n = 3\r\n",
        "\r\n",
        "res = input.split(c, n)[-1]\r\n",
        "  \r\n",
        "print(res)  "
      ],
      "execution_count": 16,
      "outputs": [
        {
          "output_type": "stream",
          "text": [
            "fai\n"
          ],
          "name": "stdout"
        }
      ]
    },
    {
      "cell_type": "code",
      "metadata": {
        "colab": {
          "base_uri": "https://localhost:8080/"
        },
        "id": "myiOsNyOgA4i",
        "outputId": "74696036-78b5-4e12-81a6-df0b2ebcbbd7"
      },
      "source": [
        "#17 write a program to generate a random binary number and convert it into decimal\r\n",
        "import random\r\n",
        "input = 10\r\n",
        "binary = ''\r\n",
        "for i in range(input): \r\n",
        "    temp = str(random.randint(0, 1)) \r\n",
        "    binary += temp \r\n",
        "          \r\n",
        "print(int(binary,2))"
      ],
      "execution_count": 17,
      "outputs": [
        {
          "output_type": "stream",
          "text": [
            "330\n"
          ],
          "name": "stdout"
        }
      ]
    },
    {
      "cell_type": "code",
      "metadata": {
        "colab": {
          "base_uri": "https://localhost:8080/"
        },
        "id": "TxhLiaLngBdR",
        "outputId": "60a4e9c5-d1a7-42d8-9445-0f76e9c22acf"
      },
      "source": [
        "#18 write a program to extract strings without numbers from a list\r\n",
        "input = ['skool', 'b4', 'bff4ever', 'u2', 'cool', 'rox'] \r\n",
        "  \r\n",
        "output = list(filter(lambda elt: elt.isalpha(), input)) \r\n",
        "  \r\n",
        "print(str(output))  "
      ],
      "execution_count": 18,
      "outputs": [
        {
          "output_type": "stream",
          "text": [
            "['skool', 'cool', 'rox']\n"
          ],
          "name": "stdout"
        }
      ]
    },
    {
      "cell_type": "code",
      "metadata": {
        "colab": {
          "base_uri": "https://localhost:8080/"
        },
        "id": "_nlRmLXbgBnK",
        "outputId": "faa1ae61-eef8-4bf3-f426-e4f581096b05"
      },
      "source": [
        "#19 write a program to print the least appearing character in a string\r\n",
        "input = 'theschoolofai'\r\n",
        "  \r\n",
        "alpha_dict = {} \r\n",
        "for i in input: \r\n",
        "    if i in alpha_dict: \r\n",
        "        alpha_dict[i] += 1\r\n",
        "    else: \r\n",
        "        alpha_dict[i] = 1\r\n",
        "output = min(alpha_dict, key = alpha_dict.get) \r\n",
        "print(output) "
      ],
      "execution_count": 19,
      "outputs": [
        {
          "output_type": "stream",
          "text": [
            "t\n"
          ],
          "name": "stdout"
        }
      ]
    },
    {
      "cell_type": "code",
      "metadata": {
        "colab": {
          "base_uri": "https://localhost:8080/"
        },
        "id": "qQ1DYFnvgBwT",
        "outputId": "0a30b32d-9f37-4cf0-f708-aa0922a1568d"
      },
      "source": [
        "#20 write a program to check if a string is a pangram\r\n",
        "import string \r\n",
        "\r\n",
        "alphabets = set(string.ascii_lowercase) \r\n",
        "string = 'the quick brown fox jumps over the lazy dog'\r\n",
        "\r\n",
        "for char in alphabets: \r\n",
        "    if char not in string.lower(): \r\n",
        "        print('The input is not a pangram')\r\n",
        "        break\r\n",
        "else:\r\n",
        "    print('The input is a pangram')"
      ],
      "execution_count": 20,
      "outputs": [
        {
          "output_type": "stream",
          "text": [
            "The input is a pangram\n"
          ],
          "name": "stdout"
        }
      ]
    },
    {
      "cell_type": "code",
      "metadata": {
        "colab": {
          "base_uri": "https://localhost:8080/"
        },
        "id": "qErTMkAcvDyH",
        "outputId": "be3d4bdd-a5a5-40fe-fd66-eb622429e44a"
      },
      "source": [
        "#21 write a program to display yesterday, today and tomorrow\r\n",
        "from datetime import datetime, timedelta \r\n",
        "\r\n",
        "today = datetime.now()\r\n",
        "yesterday = today - timedelta(1) \r\n",
        "tomorrow = today + timedelta(1) \r\n",
        "\r\n",
        "print(\"Yesterday = \", yesterday.strftime('%d-%m-%Y')) \r\n",
        "print(\"Today = \", today.strftime('%d-%m-%Y')) \r\n",
        "print(\"Tomorrow = \", tomorrow.strftime('%d-%m-%Y')) "
      ],
      "execution_count": 21,
      "outputs": [
        {
          "output_type": "stream",
          "text": [
            "Yesterday =  16-12-2020\n",
            "Today =  17-12-2020\n",
            "Tomorrow =  18-12-2020\n"
          ],
          "name": "stdout"
        }
      ]
    },
    {
      "cell_type": "code",
      "metadata": {
        "colab": {
          "base_uri": "https://localhost:8080/"
        },
        "id": "yo1wN-0xvIGk",
        "outputId": "d062876a-e061-455b-9d32-67bacc58811c"
      },
      "source": [
        "#22 write a program to convert a string in a valid format to datetime\r\n",
        "import datetime\r\n",
        "\r\n",
        "ip_string = 'Dec 26 2020'\r\n",
        "\r\n",
        "format = '%b %d %Y'\r\n",
        "dt = datetime.datetime.strptime(ip_string, format) \r\n",
        "   \r\n",
        "print(dt) "
      ],
      "execution_count": 22,
      "outputs": [
        {
          "output_type": "stream",
          "text": [
            "2020-12-26 00:00:00\n"
          ],
          "name": "stdout"
        }
      ]
    },
    {
      "cell_type": "code",
      "metadata": {
        "colab": {
          "base_uri": "https://localhost:8080/"
        },
        "id": "ANomqCNKvIOf",
        "outputId": "3ae1da4c-c3bd-4045-9b88-34bc728f088d"
      },
      "source": [
        "#23 write a recursive function to print the nth Fibonacci numer\r\n",
        "def fn_fib(n):\r\n",
        "   if n <= 1:\r\n",
        "       return n\r\n",
        "   else:\r\n",
        "       return(fn_fib(n-1) + fn_fib(n-2))\r\n",
        "\r\n",
        "input = 15\r\n",
        "\r\n",
        "if input <= 0:\r\n",
        "   print(\"Invalid input\")\r\n",
        "else:\r\n",
        "   for i in range(input):\r\n",
        "       output = fn_fib(i)\r\n",
        "\r\n",
        "print(output)"
      ],
      "execution_count": 23,
      "outputs": [
        {
          "output_type": "stream",
          "text": [
            "377\n"
          ],
          "name": "stdout"
        }
      ]
    },
    {
      "cell_type": "code",
      "metadata": {
        "colab": {
          "base_uri": "https://localhost:8080/"
        },
        "id": "tv17SiQivIR2",
        "outputId": "aeb0f44f-56dc-4898-fcab-4ced147dc6e8"
      },
      "source": [
        "#24 write a function(s) to check if a number is a Fibonacci number\r\n",
        "# A number is a Fibonacci number if 5*n*n + 4 or 5*n*n - 4 or both is a perfect square \r\n",
        "import math\r\n",
        "\r\n",
        "def isSquare(x): \r\n",
        "    y = int(math.sqrt(x))\r\n",
        "    return y**2 == x\r\n",
        "  \r\n",
        "def isFibonacci(n):\r\n",
        "    n1 = n**2\r\n",
        "    return isSquare(5*n1 + 4) or isSquare(5*n1 - 4)\r\n",
        "\r\n",
        "input = 8\r\n",
        "if (isFibonacci(input) == True): \r\n",
        "    print(input, \"is a Fibonacci Number\")\r\n",
        "else:\r\n",
        "    print (input, \"is a not Fibonacci Number\")"
      ],
      "execution_count": 24,
      "outputs": [
        {
          "output_type": "stream",
          "text": [
            "8 is a Fibonacci Number\n"
          ],
          "name": "stdout"
        }
      ]
    },
    {
      "cell_type": "code",
      "metadata": {
        "colab": {
          "base_uri": "https://localhost:8080/"
        },
        "id": "0evzKKaMvIVL",
        "outputId": "e2a8e2ca-cd05-450c-adc3-97774f5fc070"
      },
      "source": [
        "#25 write a program to print the count of each vowel in a string\r\n",
        "vowels = 'aeiou'\r\n",
        "\r\n",
        "input = 'The school of ai teaches a wide variety of advanced machine learning and artificial intelligence courses'\r\n",
        "input = input.lower()\r\n",
        "\r\n",
        "count = {}.fromkeys(vowels,0)\r\n",
        "\r\n",
        "for chr in input:\r\n",
        "   if chr in count:\r\n",
        "       count[chr] += 1\r\n",
        "\r\n",
        "print(count)"
      ],
      "execution_count": 25,
      "outputs": [
        {
          "output_type": "stream",
          "text": [
            "{'a': 11, 'e': 12, 'i': 10, 'o': 5, 'u': 1}\n"
          ],
          "name": "stdout"
        }
      ]
    },
    {
      "cell_type": "code",
      "metadata": {
        "colab": {
          "base_uri": "https://localhost:8080/"
        },
        "id": "XlrwT6h-vIYF",
        "outputId": "32e02019-9096-478c-be3c-7b144dc89dcf"
      },
      "source": [
        "#26 write a program to transpose a matrix (size known)\r\n",
        "input = [[6,8],[15,89],[44,0]] #3x2\r\n",
        "output = [[0,0,0],[0,0,0]] #2x3 initialized\r\n",
        "\r\n",
        "for i in range(len(input)):\r\n",
        "   for j in range(len(input[0])):\r\n",
        "       output[j][i] = input[i][j]\r\n",
        "\r\n",
        "print(output)"
      ],
      "execution_count": 26,
      "outputs": [
        {
          "output_type": "stream",
          "text": [
            "[[6, 15, 44], [8, 89, 0]]\n"
          ],
          "name": "stdout"
        }
      ]
    },
    {
      "cell_type": "code",
      "metadata": {
        "colab": {
          "base_uri": "https://localhost:8080/"
        },
        "id": "LoYqOHgXvIbF",
        "outputId": "5d0a13bf-1df6-443e-acdf-4d06c8110e70"
      },
      "source": [
        "#27 write a program to multiply 2 matrices (size known)\r\n",
        "\r\n",
        "#2x3\r\n",
        "X = [[6,8,89],\r\n",
        "     [15,0,44]]\r\n",
        "#3x4\r\n",
        "Y = [[5,8,1,2],\r\n",
        "    [6,7,3,0],\r\n",
        "    [4,5,9,1]]\r\n",
        "\r\n",
        "#2x4\r\n",
        "output = [[0,0,0,0],\r\n",
        "         [0,0,0,0]]\r\n",
        "\r\n",
        "for i in range(len(X)):\r\n",
        "   for j in range(len(Y[0])):\r\n",
        "       for k in range(len(Y)):\r\n",
        "           output[i][j] += X[i][k] * Y[k][j]\r\n",
        "\r\n",
        "print(output)"
      ],
      "execution_count": 27,
      "outputs": [
        {
          "output_type": "stream",
          "text": [
            "[[434, 549, 831, 101], [251, 340, 411, 74]]\n"
          ],
          "name": "stdout"
        }
      ]
    },
    {
      "cell_type": "code",
      "metadata": {
        "colab": {
          "base_uri": "https://localhost:8080/"
        },
        "id": "mEX1avDFvIeB",
        "outputId": "9d06801f-5306-4256-bfb1-e353d77178f7"
      },
      "source": [
        "#28 write a program to find the LCM of 2 numbers\r\n",
        "x = 15\r\n",
        "y = 40\r\n",
        "z = x if x > y else y\r\n",
        "\r\n",
        "while(True):\r\n",
        "    if((z % x == 0) and (z % y == 0)):\r\n",
        "        lcm = z\r\n",
        "        break\r\n",
        "    z += 1\r\n",
        "\r\n",
        "print(lcm)"
      ],
      "execution_count": 28,
      "outputs": [
        {
          "output_type": "stream",
          "text": [
            "120\n"
          ],
          "name": "stdout"
        }
      ]
    },
    {
      "cell_type": "code",
      "metadata": {
        "colab": {
          "base_uri": "https://localhost:8080/"
        },
        "id": "h1AuKrxZvIg8",
        "outputId": "6209fa0e-f459-4eca-81e0-9a59af4515dd"
      },
      "source": [
        "#29 write a program to find the HCF of 2 numbers\r\n",
        "x = 20\r\n",
        "y = 40\r\n",
        "z = x if x > y else y\r\n",
        "\r\n",
        "for i in range(1, z+1):\r\n",
        "  if((x % i == 0) and (y % i == 0)):\r\n",
        "    hcf = i\r\n",
        "\r\n",
        "print(hcf)"
      ],
      "execution_count": 29,
      "outputs": [
        {
          "output_type": "stream",
          "text": [
            "20\n"
          ],
          "name": "stdout"
        }
      ]
    },
    {
      "cell_type": "code",
      "metadata": {
        "colab": {
          "base_uri": "https://localhost:8080/"
        },
        "id": "ObfBkpKCvNRb",
        "outputId": "710e3866-c1fa-40c0-b026-710cf4c20b87"
      },
      "source": [
        "#30 write a program to calculate compoud interest\r\n",
        "principal = 1000\r\n",
        "interest = 4\r\n",
        "years = 2\r\n",
        "\r\n",
        "amount = principal*((1 + interest/100)**years)\r\n",
        "ci = amount - principal\r\n",
        "\r\n",
        "print(\"Compound interest is\", ci)"
      ],
      "execution_count": 30,
      "outputs": [
        {
          "output_type": "stream",
          "text": [
            "Compound interest is 81.60000000000014\n"
          ],
          "name": "stdout"
        }
      ]
    },
    {
      "cell_type": "code",
      "metadata": {
        "colab": {
          "base_uri": "https://localhost:8080/"
        },
        "id": "5vi_RB-eDHAC",
        "outputId": "b93ad4d6-101c-4884-8af7-18eeeef21e87"
      },
      "source": [
        "#31 Write a program that stutters a word as if someone is struggling to read it.\r\n",
        "# \"incredible\" ➞ \"in... in... incredible?\"\r\n",
        "# \"enthusiastic\" ➞ \"en... en... enthusiastic?\"\r\n",
        "word = 'outstanding'\r\n",
        "stutter = (word[:2] + '... ')*2\r\n",
        "print(stutter + word + '?')"
      ],
      "execution_count": 31,
      "outputs": [
        {
          "output_type": "stream",
          "text": [
            "ou... ou... outstanding?\n"
          ],
          "name": "stdout"
        }
      ]
    },
    {
      "cell_type": "code",
      "metadata": {
        "colab": {
          "base_uri": "https://localhost:8080/"
        },
        "id": "urRYB9piDJDs",
        "outputId": "29bcb188-d248-4dde-c99e-fe173746201e"
      },
      "source": [
        "#32 write a program to check if Values total is greater than Keys total in a dictionary\r\n",
        "input = {\r\n",
        "    1: 77, \r\n",
        "    2: 12, \r\n",
        "    3: 14, \r\n",
        "    4: 64, \r\n",
        "    5: 88, \r\n",
        "} \r\n",
        "\r\n",
        "output_keys = 0\r\n",
        "output_values = 0\r\n",
        "for i in input:\r\n",
        "  output_keys += output_keys+i\r\n",
        "  output_values += output_keys+input[i]\r\n",
        "\r\n",
        "if output_values > output_keys:\r\n",
        "  print(True)\r\n",
        "else:\r\n",
        "  print(False)"
      ],
      "execution_count": 32,
      "outputs": [
        {
          "output_type": "stream",
          "text": [
            "True\n"
          ],
          "name": "stdout"
        }
      ]
    },
    {
      "cell_type": "code",
      "metadata": {
        "colab": {
          "base_uri": "https://localhost:8080/"
        },
        "id": "y31X8qIpDIKZ",
        "outputId": "ac7c05c0-ff87-47b8-b6b9-a95065c01927"
      },
      "source": [
        "#33 write a program to merge two dictionaries (remove duplicate keys)\r\n",
        "  \r\n",
        "input1 = [{1: \"Mahesh\", 2: \"Rohan\"}, {3: \"Zoheb\", 10: \"Senthil\"}, {5: \"Manish\"}] \r\n",
        "input2 = [{1: \"Mahesh\", 6: \"Sreejith\"}, {3: \"Sravan\", 4: \"Binu\", 7: \"Kumar\"}, {11: \"Rama\"}] \r\n",
        "  \r\n",
        "for i in range(0, len(input1)): \r\n",
        "    input1_keys = list(input1[i].keys()) \r\n",
        "    for key in input2[i]: \r\n",
        "        if key not in input1_keys: \r\n",
        "            input1[i][key] = input2[i][key] \r\n",
        "  \r\n",
        "print(input1) "
      ],
      "execution_count": 33,
      "outputs": [
        {
          "output_type": "stream",
          "text": [
            "[{1: 'Mahesh', 2: 'Rohan', 6: 'Sreejith'}, {3: 'Zoheb', 10: 'Senthil', 4: 'Binu', 7: 'Kumar'}, {5: 'Manish', 11: 'Rama'}]\n"
          ],
          "name": "stdout"
        }
      ]
    },
    {
      "cell_type": "code",
      "metadata": {
        "colab": {
          "base_uri": "https://localhost:8080/"
        },
        "id": "jh52kD76DJ3B",
        "outputId": "81dd31bb-9d7f-44ab-a18c-ab834d3c62b1"
      },
      "source": [
        "#34 write a program to reverse the key-value pair in a dictionary\r\n",
        "input = {\r\n",
        "    1: 77, \r\n",
        "    2: 12, \r\n",
        "    3: 14, \r\n",
        "    4: 64, \r\n",
        "    5: 88, \r\n",
        "    6: 12\r\n",
        "} \r\n",
        "\r\n",
        "output = {}\r\n",
        "for key, value in input.items():\r\n",
        "  if value in output:\r\n",
        "       output[value].append(key)\r\n",
        "  else: \r\n",
        "       output[value] = [key]\r\n",
        "print(output) "
      ],
      "execution_count": 34,
      "outputs": [
        {
          "output_type": "stream",
          "text": [
            "{77: [1], 12: [2, 6], 14: [3], 64: [4], 88: [5]}\n"
          ],
          "name": "stdout"
        }
      ]
    },
    {
      "cell_type": "code",
      "metadata": {
        "colab": {
          "base_uri": "https://localhost:8080/"
        },
        "id": "A4ltffQADKjv",
        "outputId": "031b5b84-74bf-408d-89af-1b56d3eb545b"
      },
      "source": [
        "#35 write a program to check if a dictionary has unique keys\r\n",
        "input = {1: \"Mahesh\", 2: \"Rohan\", 3: \"Zoheb\", 4: \"Senthil\", 5: \"Manish\", 1: \"Mahesh\", 6: \"Sreejith\"}\r\n",
        "\r\n",
        "output = (len(input) != len(set(input.values())))\r\n",
        "\r\n",
        "print(\"Dictionary has unique keys : \" + str(output))"
      ],
      "execution_count": 35,
      "outputs": [
        {
          "output_type": "stream",
          "text": [
            "Dictionary has unique keys : False\n"
          ],
          "name": "stdout"
        }
      ]
    },
    {
      "cell_type": "code",
      "metadata": {
        "colab": {
          "base_uri": "https://localhost:8080/"
        },
        "id": "M9TjBi-CDLg9",
        "outputId": "f7a4246f-a601-44a5-cb65-08f062ae6e37"
      },
      "source": [
        "#36 write a program to split dictionary key-value pairs into separate lists\r\n",
        "input = {1: \"Mahesh\", 2: \"Rohan\", 3: \"Zoheb\", 4: \"Senthil\", 5: \"Manish\", 1: \"Mahesh\", 6: \"Sreejith\"}\r\n",
        "\r\n",
        "keys = input.keys() \r\n",
        "values = input.values() \r\n",
        "  \r\n",
        "print (\"Keys : \", keys) \r\n",
        "print (\"Values : \", values) "
      ],
      "execution_count": 36,
      "outputs": [
        {
          "output_type": "stream",
          "text": [
            "Keys :  dict_keys([1, 2, 3, 4, 5, 6])\n",
            "Values :  dict_values(['Mahesh', 'Rohan', 'Zoheb', 'Senthil', 'Manish', 'Sreejith'])\n"
          ],
          "name": "stdout"
        }
      ]
    },
    {
      "cell_type": "code",
      "metadata": {
        "colab": {
          "base_uri": "https://localhost:8080/"
        },
        "id": "FEKubhXTDMSd",
        "outputId": "a626f8e2-e0c7-4338-c8c8-a402dce31ef7"
      },
      "source": [
        "#37 write a program to sort a dictionary (using lambda)\r\n",
        "input = {3: \"Zoheb\", 6: \"Sreejith\", 4: \"Senthil\", 2: \"Rohan\", 5: \"Manish\", 1: \"Mahesh\"} \r\n",
        "output = (sorted(input.items(), key=lambda x: x[1])) \r\n",
        "  \r\n",
        "print(\"Sorted dictionary using lambda: \", output) "
      ],
      "execution_count": 37,
      "outputs": [
        {
          "output_type": "stream",
          "text": [
            "Sorted dictionary using lambda:  [(1, 'Mahesh'), (5, 'Manish'), (2, 'Rohan'), (4, 'Senthil'), (6, 'Sreejith'), (3, 'Zoheb')]\n"
          ],
          "name": "stdout"
        }
      ]
    },
    {
      "cell_type": "code",
      "metadata": {
        "colab": {
          "base_uri": "https://localhost:8080/"
        },
        "id": "MVjjaHyhDM7W",
        "outputId": "4201baea-4c97-4399-d42f-9d412a1422e2"
      },
      "source": [
        "#38 write a program to find largest element in an array\r\n",
        "input = [2101, 314, 6456, 190, 1989] \r\n",
        "n = len(input)\r\n",
        "\r\n",
        "largest = input[0] \r\n",
        "  \r\n",
        "for i in range(1, n):\r\n",
        "  if input[i] > largest:\r\n",
        "    largest = input[i]\r\n",
        "print(largest)"
      ],
      "execution_count": 38,
      "outputs": [
        {
          "output_type": "stream",
          "text": [
            "6456\n"
          ],
          "name": "stdout"
        }
      ]
    },
    {
      "cell_type": "code",
      "metadata": {
        "colab": {
          "base_uri": "https://localhost:8080/"
        },
        "id": "GQp4gWlrDNkv",
        "outputId": "7f7fa098-bac3-4442-9a21-20b1872a5772"
      },
      "source": [
        "#39 write a program to find the largest n-digit number divisible by x\r\n",
        "x = 13\r\n",
        "n = 7\r\n",
        "\r\n",
        "largest = 10**n - 1\r\n",
        "print(largest-(largest%x)) "
      ],
      "execution_count": 39,
      "outputs": [
        {
          "output_type": "stream",
          "text": [
            "9999990\n"
          ],
          "name": "stdout"
        }
      ]
    },
    {
      "cell_type": "code",
      "metadata": {
        "colab": {
          "base_uri": "https://localhost:8080/"
        },
        "id": "IVm1BJHHDOX8",
        "outputId": "5000e470-546e-4225-f1a8-60fc920fe288"
      },
      "source": [
        "#40 write a program to find the sum of a (1/1! + 2/2! + 3/3! + 4/4! +...+ n/n!)\r\n",
        "n = 5\r\n",
        "output = 0\r\n",
        "factorial = 1\r\n",
        "      \r\n",
        "for i in range(1, n+1):\r\n",
        "  factorial *= i\r\n",
        "  output = output + (i/factorial)\r\n",
        "\r\n",
        "print(output)"
      ],
      "execution_count": 40,
      "outputs": [
        {
          "output_type": "stream",
          "text": [
            "2.708333333333333\n"
          ],
          "name": "stdout"
        }
      ]
    },
    {
      "cell_type": "code",
      "metadata": {
        "colab": {
          "base_uri": "https://localhost:8080/"
        },
        "id": "FVxUsIpAVtWR",
        "outputId": "808174c3-737a-4d43-b7fa-e346a0a17c7b"
      },
      "source": [
        "#41 write a program to trim a tuple by n\r\n",
        "input = [(5, 3, 2, 1, 4), (3, 4, 9, 2, 1), \r\n",
        "             (9, 1, 2, 3, 5), (4, 8, 2, 1, 7)] \r\n",
        "n = 1\r\n",
        "\r\n",
        "output = [tuple(list(ele)[n: len(ele) - n]) for ele in input] \r\n",
        "print(output) "
      ],
      "execution_count": 41,
      "outputs": [
        {
          "output_type": "stream",
          "text": [
            "[(3, 2, 1), (4, 9, 2), (1, 2, 3), (8, 2, 1)]\n"
          ],
          "name": "stdout"
        }
      ]
    },
    {
      "cell_type": "code",
      "metadata": {
        "colab": {
          "base_uri": "https://localhost:8080/"
        },
        "id": "auqOhPFTVw_m",
        "outputId": "64be605f-1e7c-4771-a726-7433b1b34b36"
      },
      "source": [
        "#42 write a program to remove None tuples from a list \r\n",
        "input = [(None, 2), (None, None), (3, 4), (12, 3), (None, )]\r\n",
        "  \r\n",
        "output = list(filter(lambda sub : not all(elt == None for elt in sub), input))\r\n",
        "print(output)"
      ],
      "execution_count": 42,
      "outputs": [
        {
          "output_type": "stream",
          "text": [
            "[(None, 2), (3, 4), (12, 3)]\n"
          ],
          "name": "stdout"
        }
      ]
    },
    {
      "cell_type": "code",
      "metadata": {
        "colab": {
          "base_uri": "https://localhost:8080/"
        },
        "id": "gX13YfhBVxcH",
        "outputId": "eace21af-1941-4b68-aebb-114e9499f68c"
      },
      "source": [
        "#43 write a program to find tuples which have all elements divisible by n\r\n",
        "input = [(12, 18, 21), (6, 24, 12), (7, 9, 6), (3, 1, 11)]\r\n",
        "n = 3\r\n",
        "\r\n",
        "output = list(filter(lambda sub: all(elt % n == 0 for elt in sub), input))\r\n",
        "print(output)"
      ],
      "execution_count": 43,
      "outputs": [
        {
          "output_type": "stream",
          "text": [
            "[(12, 18, 21), (6, 24, 12)]\n"
          ],
          "name": "stdout"
        }
      ]
    },
    {
      "cell_type": "code",
      "metadata": {
        "colab": {
          "base_uri": "https://localhost:8080/"
        },
        "id": "KFVq4uEUVxfT",
        "outputId": "b4120384-c5ef-4115-de46-48f33df45a5e"
      },
      "source": [
        "#44 write a program to convert a Tuple Matrix to a Tuple List\r\n",
        "input = [[(12, 18, 21), (6, 24, 12), (7, 9, 6), (3, 1, 11)]]\r\n",
        "\r\n",
        "temp = [ele for sub in input for ele in sub] \r\n",
        "\r\n",
        "output = list(zip(*temp)) \r\n",
        "print(output)"
      ],
      "execution_count": 44,
      "outputs": [
        {
          "output_type": "stream",
          "text": [
            "[(12, 6, 7, 3), (18, 24, 9, 1), (21, 12, 6, 11)]\n"
          ],
          "name": "stdout"
        }
      ]
    },
    {
      "cell_type": "code",
      "metadata": {
        "colab": {
          "base_uri": "https://localhost:8080/"
        },
        "id": "a97xWuwqVxDZ",
        "outputId": "7e6ced47-3a39-4e11-8f19-6605ac4523d4"
      },
      "source": [
        "#45 write a program to convert a dictionary to a tuple\r\n",
        "input = [{'a':['Africa', 'Australia'], 'b':['Banaras', 'Bhutan']}, {'c':['Cambodia', 'California'], 'd':['Denmark', 'Delhi']}] \r\n",
        "  \r\n",
        "output = [(key,)+tuple(val) for dict in input for key, val in dict.items()] \r\n",
        "\r\n",
        "print(output)"
      ],
      "execution_count": 45,
      "outputs": [
        {
          "output_type": "stream",
          "text": [
            "[('a', 'Africa', 'Australia'), ('b', 'Banaras', 'Bhutan'), ('c', 'Cambodia', 'California'), ('d', 'Denmark', 'Delhi')]\n"
          ],
          "name": "stdout"
        }
      ]
    },
    {
      "cell_type": "code",
      "metadata": {
        "colab": {
          "base_uri": "https://localhost:8080/"
        },
        "id": "ocdF50FcVxIQ",
        "outputId": "7f15dbf6-55ef-4934-f9a8-70ce711ff034"
      },
      "source": [
        "#46 write a program to sort & flatten a tuple of list\r\n",
        "input = ([5, 6], [6, 7, 8, 9], [3])\r\n",
        "  \r\n",
        "output = sorted([j for i in input for j in i])\r\n",
        "print(output)"
      ],
      "execution_count": 46,
      "outputs": [
        {
          "output_type": "stream",
          "text": [
            "[3, 5, 6, 6, 7, 8, 9]\n"
          ],
          "name": "stdout"
        }
      ]
    },
    {
      "cell_type": "code",
      "metadata": {
        "colab": {
          "base_uri": "https://localhost:8080/"
        },
        "id": "TotexMz0V0pn",
        "outputId": "2ba843e2-b809-4f79-e468-d32368a56ce9"
      },
      "source": [
        "#47 write a program to rotate a string a n characters\r\n",
        "input = 'theschoolofai'\r\n",
        "length = len(input)\r\n",
        "n=2\r\n",
        "print(input[length-n:]  + input[0:length-n])"
      ],
      "execution_count": 47,
      "outputs": [
        {
          "output_type": "stream",
          "text": [
            "aitheschoolof\n"
          ],
          "name": "stdout"
        }
      ]
    },
    {
      "cell_type": "code",
      "metadata": {
        "colab": {
          "base_uri": "https://localhost:8080/"
        },
        "id": "mA1e1p3KV0zX",
        "outputId": "3ca3aa0c-85b2-4785-9047-fae3b2a701be"
      },
      "source": [
        "#48 write a program to check if two words have the same alphabets\r\n",
        "str1 = 'a,e,i,o,u'\r\n",
        "str2 = 'e,i,a,u,o'\r\n",
        "  \r\n",
        "output = sorted(str1.split(',')) == sorted(str2.split(',')) \r\n",
        "print(output)  "
      ],
      "execution_count": 48,
      "outputs": [
        {
          "output_type": "stream",
          "text": [
            "True\n"
          ],
          "name": "stdout"
        }
      ]
    },
    {
      "cell_type": "code",
      "metadata": {
        "id": "44us0JeUV083",
        "colab": {
          "base_uri": "https://localhost:8080/"
        },
        "outputId": "0be14a91-08a4-4fc9-c29f-dec838f11a97"
      },
      "source": [
        "#49 write a program to check if a string can become empty by recursive deletion\r\n",
        "input = 'gugugurururu'\r\n",
        "pattern = 'guru'\r\n",
        "output = True\r\n",
        "\r\n",
        "while (len(input) != 0):  \r\n",
        "  index = input.find(pattern)  \r\n",
        "  if (index == (-1)):  \r\n",
        "    output = False\r\n",
        "  input = input[0:index] + input[index + len(pattern):] \r\n",
        "print(output)"
      ],
      "execution_count": 49,
      "outputs": [
        {
          "output_type": "stream",
          "text": [
            "True\n"
          ],
          "name": "stdout"
        }
      ]
    },
    {
      "cell_type": "code",
      "metadata": {
        "id": "IBxhySNoV1Dv",
        "colab": {
          "base_uri": "https://localhost:8080/"
        },
        "outputId": "527301f5-a2c7-4a9d-84cf-4a371c6127b9"
      },
      "source": [
        "#50 write a program to calculate the time to run a python code snippet\r\n",
        "from datetime import datetime, timedelta\r\n",
        "\r\n",
        "starttime = datetime.now()\r\n",
        "\r\n",
        "#code snippet\r\n",
        "n = 100000\r\n",
        "output = 0\r\n",
        "factorial = 1\r\n",
        "      \r\n",
        "for i in range(1, n+1):\r\n",
        "  factorial *= i\r\n",
        "  output = output + (i/factorial)\r\n",
        "\r\n",
        "print(output)\r\n",
        "\r\n",
        "endtime = datetime.now()\r\n",
        "print(starttime)\r\n",
        "print(endtime)\r\n",
        "print('Time taken to run the above code is:', (endtime-starttime).total_seconds(), 'seconds')"
      ],
      "execution_count": 50,
      "outputs": [
        {
          "output_type": "stream",
          "text": [
            "2.7182818284590455\n",
            "2020-12-17 17:39:10.246584\n",
            "2020-12-17 17:39:13.037960\n",
            "Time taken to run the above code is: 2.791376 seconds\n"
          ],
          "name": "stdout"
        }
      ]
    },
    {
      "cell_type": "code",
      "metadata": {
        "id": "7Ot-D7fJeJTX",
        "colab": {
          "base_uri": "https://localhost:8080/"
        },
        "outputId": "4796d0b4-e037-4e83-cfb3-8547c5140ed6"
      },
      "source": [
        "#51 write a program which mean and median of a list\r\n",
        "import statistics, random\r\n",
        "  \r\n",
        "input = random.sample(range(10, 30), 10)\r\n",
        "print(input)\r\n",
        "  \r\n",
        "print('Mean:', statistics.mean(input)) \r\n",
        "print('Median:', statistics.median(input)) "
      ],
      "execution_count": 51,
      "outputs": [
        {
          "output_type": "stream",
          "text": [
            "[12, 21, 18, 15, 28, 22, 20, 19, 14, 24]\n",
            "Mean: 19.3\n",
            "Median: 19.5\n"
          ],
          "name": "stdout"
        }
      ]
    },
    {
      "cell_type": "code",
      "metadata": {
        "id": "8EaioQfTeJhu",
        "colab": {
          "base_uri": "https://localhost:8080/"
        },
        "outputId": "64b2094e-4c92-478b-c5f5-cb42067cb7b9"
      },
      "source": [
        "#52 write a program which variance and std deviation of a list\r\n",
        "import statistics, random\r\n",
        "  \r\n",
        "input = random.sample(range(1, 30), 10)\r\n",
        "print(input)\r\n",
        "  \r\n",
        "print('Variance:', statistics.variance(input)) \r\n",
        "print('Std. Deviation:', statistics.stdev(input)) "
      ],
      "execution_count": 52,
      "outputs": [
        {
          "output_type": "stream",
          "text": [
            "[20, 27, 22, 6, 13, 3, 10, 9, 23, 5]\n",
            "Variance: 73.06666666666666\n",
            "Std. Deviation: 8.547904226573124\n"
          ],
          "name": "stdout"
        }
      ]
    },
    {
      "cell_type": "code",
      "metadata": {
        "id": "JrSDEOvheJpY",
        "colab": {
          "base_uri": "https://localhost:8080/"
        },
        "outputId": "d89e193a-d815-4a8e-e2fc-ad7921907243"
      },
      "source": [
        "#53 write a program to print a calendar year and print if it is a leap year (using calendar functions)\r\n",
        "import calendar\r\n",
        "\r\n",
        "year = 2020\r\n",
        "print(year, 'is leap?', calendar.isleap(year))\r\n",
        "print(calendar.calendar(year,2,1,6))"
      ],
      "execution_count": 53,
      "outputs": [
        {
          "output_type": "stream",
          "text": [
            "2020 is leap? True\n",
            "                                  2020\n",
            "\n",
            "      January                   February                   March\n",
            "Mo Tu We Th Fr Sa Su      Mo Tu We Th Fr Sa Su      Mo Tu We Th Fr Sa Su\n",
            "       1  2  3  4  5                      1  2                         1\n",
            " 6  7  8  9 10 11 12       3  4  5  6  7  8  9       2  3  4  5  6  7  8\n",
            "13 14 15 16 17 18 19      10 11 12 13 14 15 16       9 10 11 12 13 14 15\n",
            "20 21 22 23 24 25 26      17 18 19 20 21 22 23      16 17 18 19 20 21 22\n",
            "27 28 29 30 31            24 25 26 27 28 29         23 24 25 26 27 28 29\n",
            "                                                    30 31\n",
            "\n",
            "       April                      May                       June\n",
            "Mo Tu We Th Fr Sa Su      Mo Tu We Th Fr Sa Su      Mo Tu We Th Fr Sa Su\n",
            "       1  2  3  4  5                   1  2  3       1  2  3  4  5  6  7\n",
            " 6  7  8  9 10 11 12       4  5  6  7  8  9 10       8  9 10 11 12 13 14\n",
            "13 14 15 16 17 18 19      11 12 13 14 15 16 17      15 16 17 18 19 20 21\n",
            "20 21 22 23 24 25 26      18 19 20 21 22 23 24      22 23 24 25 26 27 28\n",
            "27 28 29 30               25 26 27 28 29 30 31      29 30\n",
            "\n",
            "        July                     August                  September\n",
            "Mo Tu We Th Fr Sa Su      Mo Tu We Th Fr Sa Su      Mo Tu We Th Fr Sa Su\n",
            "       1  2  3  4  5                      1  2          1  2  3  4  5  6\n",
            " 6  7  8  9 10 11 12       3  4  5  6  7  8  9       7  8  9 10 11 12 13\n",
            "13 14 15 16 17 18 19      10 11 12 13 14 15 16      14 15 16 17 18 19 20\n",
            "20 21 22 23 24 25 26      17 18 19 20 21 22 23      21 22 23 24 25 26 27\n",
            "27 28 29 30 31            24 25 26 27 28 29 30      28 29 30\n",
            "                          31\n",
            "\n",
            "      October                   November                  December\n",
            "Mo Tu We Th Fr Sa Su      Mo Tu We Th Fr Sa Su      Mo Tu We Th Fr Sa Su\n",
            "          1  2  3  4                         1          1  2  3  4  5  6\n",
            " 5  6  7  8  9 10 11       2  3  4  5  6  7  8       7  8  9 10 11 12 13\n",
            "12 13 14 15 16 17 18       9 10 11 12 13 14 15      14 15 16 17 18 19 20\n",
            "19 20 21 22 23 24 25      16 17 18 19 20 21 22      21 22 23 24 25 26 27\n",
            "26 27 28 29 30 31         23 24 25 26 27 28 29      28 29 30 31\n",
            "                          30\n",
            "\n"
          ],
          "name": "stdout"
        }
      ]
    },
    {
      "cell_type": "code",
      "metadata": {
        "id": "e9dCSW6PeJtQ",
        "colab": {
          "base_uri": "https://localhost:8080/"
        },
        "outputId": "1ba84d19-b330-47b2-bcec-b36422dadecb"
      },
      "source": [
        "#54 write a program which tells the day when a date is provided as input\r\n",
        "import datetime\r\n",
        "\r\n",
        "input = datetime.datetime(2020, 12, 17)\r\n",
        "print(input.strftime(\"%A\")) "
      ],
      "execution_count": 54,
      "outputs": [
        {
          "output_type": "stream",
          "text": [
            "Thursday\n"
          ],
          "name": "stdout"
        }
      ]
    },
    {
      "cell_type": "code",
      "metadata": {
        "id": "2Eb2kRCFeJxN",
        "colab": {
          "base_uri": "https://localhost:8080/"
        },
        "outputId": "c28a7a4e-665c-498c-c498-260d86e4ce90"
      },
      "source": [
        "#55 write a program showing how to use the basic mathematical functions we use in machine learning\r\n",
        "import math \r\n",
        "\r\n",
        "a = 2.3\r\n",
        "  \r\n",
        "# Ceil\r\n",
        "print(math.ceil(a))\r\n",
        "  \r\n",
        "# Floor\r\n",
        "print (math.floor(a))\r\n",
        "\r\n",
        "a = -10\r\n",
        "b = 5\r\n",
        "\r\n",
        "# Absolute value \r\n",
        "print(math.fabs(a))\r\n",
        "  \r\n",
        "# Factorial\r\n",
        "print(math.factorial(b))\r\n",
        "   \r\n",
        "# exponential \r\n",
        "print(math.exp(a))\r\n",
        "\r\n",
        "# a raised to b\r\n",
        "print(math.pow(a,b))\r\n",
        "\r\n",
        "# log2\r\n",
        "print(math.log2(b))\r\n",
        "   \r\n",
        "# log10 \r\n",
        "print(math.log10(b))\r\n",
        "   \r\n",
        "# Square root\r\n",
        "print(math.sqrt(b))"
      ],
      "execution_count": 55,
      "outputs": [
        {
          "output_type": "stream",
          "text": [
            "3\n",
            "2\n",
            "10.0\n",
            "120\n",
            "4.5399929762484854e-05\n",
            "-100000.0\n",
            "2.321928094887362\n",
            "0.6989700043360189\n",
            "2.23606797749979\n"
          ],
          "name": "stdout"
        }
      ]
    },
    {
      "cell_type": "code",
      "metadata": {
        "id": "194r_6ateJzz",
        "colab": {
          "base_uri": "https://localhost:8080/"
        },
        "outputId": "ff80827d-4410-4c44-f0e6-c654acf403c5"
      },
      "source": [
        "#56 write a program to sort the values of a list based on the values of a second list\r\n",
        "list1 = [\"t\", \"h\", \"e\", \"s\", \"c\", \"h\", \"o\", \"o\", \"l\"]\r\n",
        "list2 = [ 0,   1,   1,   0,   1,   2,   2,   0,   1]\r\n",
        "zipped_pairs = zip(list2, list1)\r\n",
        "z = [x for _, x in sorted(zipped_pairs)]\r\n",
        "print(z)"
      ],
      "execution_count": 56,
      "outputs": [
        {
          "output_type": "stream",
          "text": [
            "['o', 's', 't', 'c', 'e', 'h', 'l', 'h', 'o']\n"
          ],
          "name": "stdout"
        }
      ]
    },
    {
      "cell_type": "code",
      "metadata": {
        "id": "tYn1zqaweJ2T",
        "colab": {
          "base_uri": "https://localhost:8080/"
        },
        "outputId": "1c509dfb-df25-42e4-d3f3-e11dc19f6ed2"
      },
      "source": [
        "#57 write a program to implement list sort\r\n",
        "input = [23, 67, 9, 0, -88, 6, 900, -63]\r\n",
        "length = len(input)\r\n",
        "sorted = 0\r\n",
        "while sorted == 0: \r\n",
        "    sorted = 1\r\n",
        "    temp = 0\r\n",
        "    for i in range(1, length-1, 2): \r\n",
        "        if input[i] > input[i+1]: \r\n",
        "            input[i], input[i+1] = input[i+1], input[i] \r\n",
        "            sorted = 0\r\n",
        "                  \r\n",
        "    for i in range(0, length-1, 2): \r\n",
        "        if input[i] > input[i+1]: \r\n",
        "            input[i], input[i+1] = input[i+1], input[i] \r\n",
        "            sorted = 0\r\n",
        "\r\n",
        "print(input)"
      ],
      "execution_count": 57,
      "outputs": [
        {
          "output_type": "stream",
          "text": [
            "[-88, -63, 0, 6, 9, 23, 67, 900]\n"
          ],
          "name": "stdout"
        }
      ]
    },
    {
      "cell_type": "code",
      "metadata": {
        "id": "CEPh24tneJ52",
        "colab": {
          "base_uri": "https://localhost:8080/"
        },
        "outputId": "687594a7-a605-44e0-c68b-47fe75d8e95d"
      },
      "source": [
        "#58 write a program to check if two lists have any common elements (use sets)\r\n",
        "a = [1, 2, 3, 4, 5]\r\n",
        "b = [5, 6, 7, 8, 9]\r\n",
        "a_set = set(a)\r\n",
        "b_set = set(b)\r\n",
        "output = False\r\n",
        "if len(a_set.intersection(b_set)) > 0: \r\n",
        "  output = True\r\n",
        "print(output)"
      ],
      "execution_count": 58,
      "outputs": [
        {
          "output_type": "stream",
          "text": [
            "True\n"
          ],
          "name": "stdout"
        }
      ]
    },
    {
      "cell_type": "code",
      "metadata": {
        "id": "ozT8pIjLeJ8C",
        "colab": {
          "base_uri": "https://localhost:8080/"
        },
        "outputId": "07bfd40c-f0ee-4f4a-b979-ba68bf1854c4"
      },
      "source": [
        "#59 write a program to check if two lists are circularly identical\r\n",
        "list1 = [5, 5, 2, 2, 5]\r\n",
        "list2 = [5, 2, 2, 5, 5]\r\n",
        "print(' '.join(map(str, list2)) in ' '.join(map(str, list1 * 2))) "
      ],
      "execution_count": 59,
      "outputs": [
        {
          "output_type": "stream",
          "text": [
            "True\n"
          ],
          "name": "stdout"
        }
      ]
    },
    {
      "cell_type": "code",
      "metadata": {
        "id": "LWMrT4z5ePcw",
        "colab": {
          "base_uri": "https://localhost:8080/"
        },
        "outputId": "c4f26a47-9ed0-4cfa-eb01-e6be5846446f"
      },
      "source": [
        "#60 write a program to display the common elements in 2 random lists (intersection using sets)\r\n",
        "lst1 = random.sample(range(1, 30), 10)\r\n",
        "lst2 = random.sample(range(1, 30), 10)\r\n",
        "print(lst1)\r\n",
        "print(lst2)\r\n",
        "print(list(set(lst1) & set(lst2)))"
      ],
      "execution_count": 60,
      "outputs": [
        {
          "output_type": "stream",
          "text": [
            "[17, 20, 25, 3, 28, 7, 22, 24, 16, 27]\n",
            "[22, 11, 12, 19, 15, 16, 3, 29, 26, 10]\n",
            "[16, 3, 22]\n"
          ],
          "name": "stdout"
        }
      ]
    },
    {
      "cell_type": "code",
      "metadata": {
        "id": "BbHFYdfDePnt",
        "colab": {
          "base_uri": "https://localhost:8080/"
        },
        "outputId": "9ff2ef14-7de2-4c12-eb57-ed736f426101"
      },
      "source": [
        "#61 write a program to create a sorted merged list of two unsorted lists\r\n",
        "list1 = [\"Mahesh\", \"Ramesh\", \"Rohan\", \"Mukesh\", \"Sumeet\"]\r\n",
        "list2 = [\"Sravan\", \"Karthik\", \"Suresh\", \"Dinesh\", \"Suraj\"]\r\n",
        "final_list = list1 + list2\r\n",
        "final_list.sort()\r\n",
        "print(final_list)"
      ],
      "execution_count": 61,
      "outputs": [
        {
          "output_type": "stream",
          "text": [
            "['Dinesh', 'Karthik', 'Mahesh', 'Mukesh', 'Ramesh', 'Rohan', 'Sravan', 'Sumeet', 'Suraj', 'Suresh']\n"
          ],
          "name": "stdout"
        }
      ]
    },
    {
      "cell_type": "code",
      "metadata": {
        "id": "4iCENIinePrW",
        "colab": {
          "base_uri": "https://localhost:8080/"
        },
        "outputId": "864f12a9-a760-45c6-9b6a-ac85551c70f3"
      },
      "source": [
        "#62 write a program to retrieve the positive elements from a list of lists\r\n",
        "input = [[10, -11, 222], [42, -222, -412, 99, -87]]\r\n",
        "output = [[b for b in a if b>0] for a in input]\r\n",
        "print(output)"
      ],
      "execution_count": 62,
      "outputs": [
        {
          "output_type": "stream",
          "text": [
            "[[10, 222], [42, 99]]\n"
          ],
          "name": "stdout"
        }
      ]
    },
    {
      "cell_type": "code",
      "metadata": {
        "id": "_wTgIeHcePu-",
        "colab": {
          "base_uri": "https://localhost:8080/"
        },
        "outputId": "ab5ede02-d15f-40f7-9f57-e0f0e54df5d5"
      },
      "source": [
        "#63 write a program to separate the even and odd numbers in a list\r\n",
        "input = random.sample(range(1, 100), 20)\r\n",
        "print(input)\r\n",
        "odd_list = [ele for ele in input if ele%2 !=0] \r\n",
        "even_list = [ele for ele in input if ele%2 ==0] \r\n",
        "print(\"Odd list:\", odd_list) \r\n",
        "print(\"Even list:\", even_list) "
      ],
      "execution_count": 63,
      "outputs": [
        {
          "output_type": "stream",
          "text": [
            "[14, 10, 81, 69, 51, 76, 72, 75, 34, 18, 99, 92, 84, 89, 55, 33, 67, 53, 44, 59]\n",
            "Odd list: [81, 69, 51, 75, 99, 89, 55, 33, 67, 53, 59]\n",
            "Even list: [14, 10, 76, 72, 34, 18, 92, 84, 44]\n"
          ],
          "name": "stdout"
        }
      ]
    },
    {
      "cell_type": "code",
      "metadata": {
        "id": "WmyPSjOuePxh",
        "colab": {
          "base_uri": "https://localhost:8080/"
        },
        "outputId": "2bcdc25f-497e-4dd0-ad29-a1f6d9a0b5fc"
      },
      "source": [
        "#64 write a program to iterate over multiple lists simultaneously\r\n",
        "indices = [1, 2, 3]\r\n",
        "alphabets = ['x', 'y', 'z']\r\n",
        "values = [255, 256, 257]\r\n",
        "  \r\n",
        "for (a, b, c) in zip(indices, alphabets, values):\r\n",
        "    print (a, b, c)"
      ],
      "execution_count": 64,
      "outputs": [
        {
          "output_type": "stream",
          "text": [
            "1 x 255\n",
            "2 y 256\n",
            "3 z 257\n"
          ],
          "name": "stdout"
        }
      ]
    },
    {
      "cell_type": "code",
      "metadata": {
        "id": "K6yOlcYGeP1p",
        "colab": {
          "base_uri": "https://localhost:8080/"
        },
        "outputId": "72cf398d-2de3-424c-b8ee-e1342320257e"
      },
      "source": [
        "#65 write a program to check if two lists are reverse equal (do not use reversed function)\r\n",
        "input1 = [5, 6, 7, 8]\r\n",
        "input2 = [8, 7, 6, 5]\r\n",
        "\r\n",
        "output = (input1 == input2[::-1])\r\n",
        "print(output) "
      ],
      "execution_count": 65,
      "outputs": [
        {
          "output_type": "stream",
          "text": [
            "True\n"
          ],
          "name": "stdout"
        }
      ]
    },
    {
      "cell_type": "code",
      "metadata": {
        "id": "rz_YJ-UFeU7y",
        "colab": {
          "base_uri": "https://localhost:8080/"
        },
        "outputId": "6a0a5991-3792-402d-99c2-b51df337c2b1"
      },
      "source": [
        "#66 write a program to check if element exists in list of lists\r\n",
        "input = [[1, 2, 5, 10, 7], \r\n",
        "            [4, 3, 4, 3, 21], \r\n",
        "            [45, 65, 8, 8, 9, 9]] \r\n",
        "find = 3\r\n",
        "\r\n",
        "output = any(find in sub for sub in input)\r\n",
        "print(output)"
      ],
      "execution_count": 66,
      "outputs": [
        {
          "output_type": "stream",
          "text": [
            "True\n"
          ],
          "name": "stdout"
        }
      ]
    },
    {
      "cell_type": "code",
      "metadata": {
        "id": "XMe4QMXmeVGG",
        "colab": {
          "base_uri": "https://localhost:8080/"
        },
        "outputId": "915e0b8b-3286-46fa-e38e-7f81bd29ce8f"
      },
      "source": [
        "#67 write a program to concatenate two lists element by element\r\n",
        "input1 = [\"theschool\", \"i\", \"be\"]\r\n",
        "input2 = ['ofai', 's', 'st']\r\n",
        "\r\n",
        "output = [i + j for i, j in zip(input1, input2)] \r\n",
        "print(output) "
      ],
      "execution_count": 67,
      "outputs": [
        {
          "output_type": "stream",
          "text": [
            "['theschoolofai', 'is', 'best']\n"
          ],
          "name": "stdout"
        }
      ]
    },
    {
      "cell_type": "code",
      "metadata": {
        "id": "aJNNxbuqeVKy",
        "colab": {
          "base_uri": "https://localhost:8080/"
        },
        "outputId": "f06a7c27-aa53-4189-d796-9e312556761d"
      },
      "source": [
        "#68 write a program to check if all tuples have element difference less than a specific value\\\r\n",
        "input = [(3, 4), (1, 2), (7, 10), (9, 8)]\r\n",
        "n = 2\r\n",
        "  \r\n",
        "output = all(abs(sub1-sub2) < n for sub1, sub2 in input)\r\n",
        "print(output) "
      ],
      "execution_count": 68,
      "outputs": [
        {
          "output_type": "stream",
          "text": [
            "False\n"
          ],
          "name": "stdout"
        }
      ]
    },
    {
      "cell_type": "code",
      "metadata": {
        "id": "ojU0NB0ZeVMx",
        "colab": {
          "base_uri": "https://localhost:8080/"
        },
        "outputId": "2ebda3d6-c97d-48c6-a36d-03f7347bccb1"
      },
      "source": [
        "#69 write a program to find second most repeated word in a sequence\r\n",
        "input = ['aaa','bbb','ccc','bbb','aaa','aaa']\r\n",
        "from collections import Counter\r\n",
        "\r\n",
        "c = Counter(input)\r\n",
        "print(c.most_common()[1][0])"
      ],
      "execution_count": 69,
      "outputs": [
        {
          "output_type": "stream",
          "text": [
            "bbb\n"
          ],
          "name": "stdout"
        }
      ]
    },
    {
      "cell_type": "code",
      "metadata": {
        "id": "Yxd76ysQeX2K",
        "colab": {
          "base_uri": "https://localhost:8080/"
        },
        "outputId": "9f4d3f85-a874-4533-f7af-b2e1c1a1cac4"
      },
      "source": [
        "#70 write a program to convert a list of Tuples into Dictionary\r\n",
        "tuple = [(\"akash\", 1), (\"gaurav\", 2), (\"anand\", 3), (\"suraj\", 4), (\"akhil\", 5), (\"ashish\", 6)]\r\n",
        "dictionary = dict(tuple)\r\n",
        "print(dictionary)"
      ],
      "execution_count": 70,
      "outputs": [
        {
          "output_type": "stream",
          "text": [
            "{'akash': 1, 'gaurav': 2, 'anand': 3, 'suraj': 4, 'akhil': 5, 'ashish': 6}\n"
          ],
          "name": "stdout"
        }
      ]
    },
    {
      "cell_type": "code",
      "metadata": {
        "colab": {
          "base_uri": "https://localhost:8080/"
        },
        "id": "t_MW82_8Mn2q",
        "outputId": "a0a17a82-c038-4d55-f5ac-1b2a723ada78"
      },
      "source": [
        "#71 write a program to check if binary representations of two numbers are anagram\r\n",
        "num1 = 8\r\n",
        "num2 = 16\r\n",
        "\r\n",
        "bin1 = bin(num1)[2:] \r\n",
        "bin2 = bin(num2)[2:] \r\n",
        "  \r\n",
        "zeros = abs(len(bin1)-len(bin2)) \r\n",
        "if (len(bin1)>len(bin2)): \r\n",
        "  bin2 = zeros*'0' + bin2 \r\n",
        "else: \r\n",
        "  bin1 = zeros*'0' + bin1 \r\n",
        "\r\n",
        "dict1 = Counter(bin1) \r\n",
        "dict2 = Counter(bin2) \r\n",
        "\r\n",
        "if dict1 == dict2: \r\n",
        "      print('Yes') \r\n",
        "else: \r\n",
        "      print('No') "
      ],
      "execution_count": 71,
      "outputs": [
        {
          "output_type": "stream",
          "text": [
            "Yes\n"
          ],
          "name": "stdout"
        }
      ]
    },
    {
      "cell_type": "code",
      "metadata": {
        "colab": {
          "base_uri": "https://localhost:8080/"
        },
        "id": "BkkZDCpiMn8R",
        "outputId": "7500e8b6-28fa-4fdf-dd4a-04bc3bba32a1"
      },
      "source": [
        "#72 write a program to mirror characters in a string\r\n",
        "input = 'theschoolofai'\r\n",
        "n = 4\r\n",
        "\r\n",
        "alphabets = 'abcdefghijklmnopqrstuvwxyz'\r\n",
        "reverse = 'zyxwvutsrqponmlkjihgfedcba'\r\n",
        "dict_Chars = dict(zip(alphabets, reverse))\r\n",
        "  \r\n",
        "prefix = input[0:n-1]\r\n",
        "suffix = input[n-1:]\r\n",
        "mirror = ''\r\n",
        "  \r\n",
        "for i in range(0,len(suffix)):\r\n",
        "  mirror = mirror + dict_Chars[suffix[i]]\r\n",
        "  \r\n",
        "print(prefix+mirror)"
      ],
      "execution_count": 72,
      "outputs": [
        {
          "output_type": "stream",
          "text": [
            "thehxslloluzr\n"
          ],
          "name": "stdout"
        }
      ]
    },
    {
      "cell_type": "code",
      "metadata": {
        "colab": {
          "base_uri": "https://localhost:8080/",
          "height": 229
        },
        "id": "p_0TuMECMn_p",
        "outputId": "7a94ced6-b898-47eb-e8bd-c0a6d88ab233"
      },
      "source": [
        "#73 write a program which counts the number of upper and lower characters in a string\r\n",
        "input = \"theschoolofai is the BEST school ever. PERIOD.\"\r\n",
        "  \r\n",
        "output_upper = sum(map(str.isupper, input)) \r\n",
        "output_lower = sum(map(str.islower, input)) \r\n",
        "  \r\n",
        "print(\"Uppercase characters #: \" + str(output_upper)) \r\n",
        "print(\"Lowercase characters #: \" + str(output_lower)) "
      ],
      "execution_count": 73,
      "outputs": [
        {
          "output_type": "error",
          "ename": "TypeError",
          "evalue": "ignored",
          "traceback": [
            "\u001b[0;31m---------------------------------------------------------------------------\u001b[0m",
            "\u001b[0;31mTypeError\u001b[0m                                 Traceback (most recent call last)",
            "\u001b[0;32m<ipython-input-73-56d554572b79>\u001b[0m in \u001b[0;36m<module>\u001b[0;34m()\u001b[0m\n\u001b[1;32m      2\u001b[0m \u001b[0minput\u001b[0m \u001b[0;34m=\u001b[0m \u001b[0;34m\"theschoolofai is the BEST school ever. PERIOD.\"\u001b[0m\u001b[0;34m\u001b[0m\u001b[0;34m\u001b[0m\u001b[0m\n\u001b[1;32m      3\u001b[0m \u001b[0;34m\u001b[0m\u001b[0m\n\u001b[0;32m----> 4\u001b[0;31m \u001b[0moutput_upper\u001b[0m \u001b[0;34m=\u001b[0m \u001b[0msum\u001b[0m\u001b[0;34m(\u001b[0m\u001b[0mmap\u001b[0m\u001b[0;34m(\u001b[0m\u001b[0mstr\u001b[0m\u001b[0;34m.\u001b[0m\u001b[0misupper\u001b[0m\u001b[0;34m,\u001b[0m \u001b[0minput\u001b[0m\u001b[0;34m)\u001b[0m\u001b[0;34m)\u001b[0m\u001b[0;34m\u001b[0m\u001b[0;34m\u001b[0m\u001b[0m\n\u001b[0m\u001b[1;32m      5\u001b[0m \u001b[0moutput_lower\u001b[0m \u001b[0;34m=\u001b[0m \u001b[0msum\u001b[0m\u001b[0;34m(\u001b[0m\u001b[0mmap\u001b[0m\u001b[0;34m(\u001b[0m\u001b[0mstr\u001b[0m\u001b[0;34m.\u001b[0m\u001b[0mislower\u001b[0m\u001b[0;34m,\u001b[0m \u001b[0minput\u001b[0m\u001b[0;34m)\u001b[0m\u001b[0;34m)\u001b[0m\u001b[0;34m\u001b[0m\u001b[0;34m\u001b[0m\u001b[0m\n\u001b[1;32m      6\u001b[0m \u001b[0;34m\u001b[0m\u001b[0m\n",
            "\u001b[0;31mTypeError\u001b[0m: 'int' object is not callable"
          ]
        }
      ]
    },
    {
      "cell_type": "code",
      "metadata": {
        "colab": {
          "base_uri": "https://localhost:8080/"
        },
        "id": "fiYJKg4xMoCh",
        "outputId": "5b4b5d3c-e39b-4f0c-b687-db246992ecf9"
      },
      "source": [
        "#74 write a program which prints the element that appears more than n/2 times in an array of n numbers\r\n",
        "from collections import Counter\r\n",
        "\r\n",
        "input = [9,1,9,5,9,6,7,9,9]\r\n",
        "countDict = Counter(input)\r\n",
        "size = len(input)\r\n",
        "\r\n",
        "for (key,val) in countDict.items():\r\n",
        "  if (val > (size/2)):\r\n",
        "      print(key)\r\n",
        "      break\r\n",
        "else:\r\n",
        "  print('None') "
      ],
      "execution_count": 74,
      "outputs": [
        {
          "output_type": "stream",
          "text": [
            "9\n"
          ],
          "name": "stdout"
        }
      ]
    },
    {
      "cell_type": "code",
      "metadata": {
        "id": "nmOtOmD8MoPG"
      },
      "source": [
        "#75 write a program which displays the frequency of the elements in a matrix\r\n",
        "from collections import Counter\r\n",
        "  \r\n",
        "input = [[4, 5, 6], [2, 4, 5], [6, 7, 5]]\r\n",
        "  \r\n",
        "output = dict(sum(map(Counter, input), Counter()))\r\n",
        "print(output)"
      ],
      "execution_count": 110,
      "outputs": []
    },
    {
      "cell_type": "code",
      "metadata": {
        "colab": {
          "base_uri": "https://localhost:8080/"
        },
        "id": "SwWU673IMrAu",
        "outputId": "ca42b4b3-9716-4dba-eb9c-15c03ffc5354"
      },
      "source": [
        "#76 write a program to display the count of strings (case insensitive)\r\n",
        "from collections import defaultdict \r\n",
        "  \r\n",
        "input = [\"The\", \"the\", \"school\", \"School\", \"of\", \"OF\", \"is\", \"IS\", \"GREAT\"] \r\n",
        "  \r\n",
        "output = defaultdict(int) \r\n",
        "for ele in input: \r\n",
        "    output[ele.lower()] += 1\r\n",
        "  \r\n",
        "print(\"Frequency : \" + str(dict(output)))"
      ],
      "execution_count": 76,
      "outputs": [
        {
          "output_type": "stream",
          "text": [
            "Frequency : {'the': 2, 'school': 2, 'of': 2, 'is': 2, 'great': 1}\n"
          ],
          "name": "stdout"
        }
      ]
    },
    {
      "cell_type": "code",
      "metadata": {
        "colab": {
          "base_uri": "https://localhost:8080/"
        },
        "id": "lyE_CHCbMrJs",
        "outputId": "fcdc8a4d-0723-4aed-fd4e-4e66895af6ad"
      },
      "source": [
        "#77 write a program to replace character in a string\r\n",
        "input = 'theschoolofai'\r\n",
        "source = 'o'\r\n",
        "target = '0'\r\n",
        "\r\n",
        "output = map(lambda x: x if (x!=source and x!=target) else source if (x==target) else target,input)\r\n",
        "print (''.join(output))"
      ],
      "execution_count": 77,
      "outputs": [
        {
          "output_type": "stream",
          "text": [
            "thesch00l0fai\n"
          ],
          "name": "stdout"
        }
      ]
    },
    {
      "cell_type": "code",
      "metadata": {
        "colab": {
          "base_uri": "https://localhost:8080/"
        },
        "id": "Pn7Xh4U1MrNp",
        "outputId": "8bac7d81-2848-42da-f956-618c9d7ce02a"
      },
      "source": [
        "#78 write a program to convert a list to tuple list\r\n",
        "input = [9, 4, 5, 13, 17] \r\n",
        "  \r\n",
        "output = list(zip(input))\r\n",
        "print(output)"
      ],
      "execution_count": 105,
      "outputs": [
        {
          "output_type": "stream",
          "text": [
            "[(9,), (4,), (5,), (13,), (17,)]\n"
          ],
          "name": "stdout"
        }
      ]
    },
    {
      "cell_type": "code",
      "metadata": {
        "colab": {
          "base_uri": "https://localhost:8080/"
        },
        "id": "EZBAeLahMrRB",
        "outputId": "d44c9b2e-79bc-47b0-81ea-ea64468233d4"
      },
      "source": [
        "#79 write a program to replace the Nth tuple element\r\n",
        "input = [('theschoolofai', 1), ('was', 2), ('best', 3)]\r\n",
        "print(\"Input: \" + str(input))\r\n",
        "repl = ('is', 2)\r\n",
        "N = 1\r\n",
        "output = [repl if sub[N] == repl[N] else sub for sub in input]\r\n",
        "print(\"Output: \" + str(output))"
      ],
      "execution_count": 111,
      "outputs": [
        {
          "output_type": "stream",
          "text": [
            "Input: [('theschoolofai', 1), ('was', 2), ('best', 3)]\n",
            "Output: [('theschoolofai', 1), ('is', 2), ('best', 3)]\n"
          ],
          "name": "stdout"
        }
      ]
    },
    {
      "cell_type": "code",
      "metadata": {
        "colab": {
          "base_uri": "https://localhost:8080/"
        },
        "id": "56dL3teHMrbx",
        "outputId": "b601bdd8-96d1-441d-df79-0b51eacf1251"
      },
      "source": [
        "#80 write a program to concatenate uncommon characters of 2 strings\r\n",
        "str1 = 'aacdb'\r\n",
        "str2 = 'gafd'\r\n",
        "\r\n",
        "set1 = set(str1)\r\n",
        "set2 = set(str2)\r\n",
        "  \r\n",
        "common = list(set1 & set2)\r\n",
        "result = [ch for ch in str1 if ch not in common] + [ch for ch in str2 if ch not in common]\r\n",
        "print(''.join(result))"
      ],
      "execution_count": 80,
      "outputs": [
        {
          "output_type": "stream",
          "text": [
            "cbgf\n"
          ],
          "name": "stdout"
        }
      ]
    },
    {
      "cell_type": "code",
      "metadata": {
        "colab": {
          "base_uri": "https://localhost:8080/"
        },
        "id": "dfFgzSnyYWyG",
        "outputId": "6c010be9-d3a9-4834-be1d-a3133df6437d"
      },
      "source": [
        "#81 write a program to reverse each word in a sentence\r\n",
        "input = 'theschoolofai is the best'\r\n",
        "print(' '.join(word[::-1] for word in input.split(\" \")))"
      ],
      "execution_count": 81,
      "outputs": [
        {
          "output_type": "stream",
          "text": [
            "iafoloohcseht si eht tseb\n"
          ],
          "name": "stdout"
        }
      ]
    },
    {
      "cell_type": "code",
      "metadata": {
        "colab": {
          "base_uri": "https://localhost:8080/"
        },
        "id": "Q38M5e2tYW3i",
        "outputId": "c2a3f0e2-d73e-442c-a059-9acb2be6ae9f"
      },
      "source": [
        "#82 write a program to print all Fridays of a year\r\n",
        "from datetime import date, timedelta\r\n",
        " \r\n",
        "year = 2020\r\n",
        "jan_1 = date(year, 1, 1)\r\n",
        "jan_1 += timedelta(days=5-jan_1.isoweekday())\r\n",
        " \r\n",
        "while jan_1.year == year:\r\n",
        "    print(jan_1)\r\n",
        "    jan_1 += timedelta(days=7)"
      ],
      "execution_count": 82,
      "outputs": [
        {
          "output_type": "stream",
          "text": [
            "2020-01-03\n",
            "2020-01-10\n",
            "2020-01-17\n",
            "2020-01-24\n",
            "2020-01-31\n",
            "2020-02-07\n",
            "2020-02-14\n",
            "2020-02-21\n",
            "2020-02-28\n",
            "2020-03-06\n",
            "2020-03-13\n",
            "2020-03-20\n",
            "2020-03-27\n",
            "2020-04-03\n",
            "2020-04-10\n",
            "2020-04-17\n",
            "2020-04-24\n",
            "2020-05-01\n",
            "2020-05-08\n",
            "2020-05-15\n",
            "2020-05-22\n",
            "2020-05-29\n",
            "2020-06-05\n",
            "2020-06-12\n",
            "2020-06-19\n",
            "2020-06-26\n",
            "2020-07-03\n",
            "2020-07-10\n",
            "2020-07-17\n",
            "2020-07-24\n",
            "2020-07-31\n",
            "2020-08-07\n",
            "2020-08-14\n",
            "2020-08-21\n",
            "2020-08-28\n",
            "2020-09-04\n",
            "2020-09-11\n",
            "2020-09-18\n",
            "2020-09-25\n",
            "2020-10-02\n",
            "2020-10-09\n",
            "2020-10-16\n",
            "2020-10-23\n",
            "2020-10-30\n",
            "2020-11-06\n",
            "2020-11-13\n",
            "2020-11-20\n",
            "2020-11-27\n",
            "2020-12-04\n",
            "2020-12-11\n",
            "2020-12-18\n",
            "2020-12-25\n"
          ],
          "name": "stdout"
        }
      ]
    },
    {
      "cell_type": "code",
      "metadata": {
        "colab": {
          "base_uri": "https://localhost:8080/"
        },
        "id": "hK_Q5GFdYW7Y",
        "outputId": "b003bed8-d136-41d4-e230-47bca1e251a5"
      },
      "source": [
        "#83 write a program to print the previous and next Sunday when current date is provided\r\n",
        "import datetime\r\n",
        " \r\n",
        "today = datetime.date.today()\r\n",
        "prev = today - datetime.timedelta(days=7-today.weekday())\r\n",
        "next = today + datetime.timedelta(days=today.weekday())\r\n",
        "print(\"Today:\", today)\r\n",
        "print(\"Last Sunday:\", prev)\r\n",
        "print(\"Next Sunday:\", next)"
      ],
      "execution_count": 83,
      "outputs": [
        {
          "output_type": "stream",
          "text": [
            "Today: 2020-12-17\n",
            "Last Sunday: 2020-12-13\n",
            "Next Sunday: 2020-12-20\n"
          ],
          "name": "stdout"
        }
      ]
    },
    {
      "cell_type": "code",
      "metadata": {
        "colab": {
          "base_uri": "https://localhost:8080/"
        },
        "id": "97XtHcU_YW_C",
        "outputId": "b86c1ab8-0100-4ef1-db9d-d26eefcbae74"
      },
      "source": [
        "#84 write a program to get start and end of week\r\n",
        "today = datetime.date.today()\r\n",
        " \r\n",
        "start_of_week = today - timedelta(days=today.weekday())\r\n",
        "end_of_week = start_of_week + timedelta(days=6)\r\n",
        "print(start_of_week)  # Monday\r\n",
        "print(end_of_week)  # Sunday"
      ],
      "execution_count": 85,
      "outputs": [
        {
          "output_type": "stream",
          "text": [
            "2020-12-14\n",
            "2020-12-20\n"
          ],
          "name": "stdout"
        }
      ]
    },
    {
      "cell_type": "code",
      "metadata": {
        "colab": {
          "base_uri": "https://localhost:8080/"
        },
        "id": "NKvxMmDNYXCf",
        "outputId": "ef3ff8ea-3d5a-4960-843a-160884371458"
      },
      "source": [
        "#85 write a program to iterate over object properties \r\n",
        "class Animal(object):\r\n",
        "    def __init__(self):\r\n",
        "        self.eyes = 2\r\n",
        "        self.name = 'Cow'\r\n",
        "        self.color= 'Brown'\r\n",
        "        self.legs = 4\r\n",
        "        self.age  = 3\r\n",
        "        self.kids = 1\r\n",
        " \r\n",
        "animal = Animal()\r\n",
        "animal.tail = 1\r\n",
        " \r\n",
        "temp = vars(animal)\r\n",
        "for item in temp:\r\n",
        "    print(item, ':', temp[item])"
      ],
      "execution_count": 86,
      "outputs": [
        {
          "output_type": "stream",
          "text": [
            "eyes : 2\n",
            "name : Cow\n",
            "color : Brown\n",
            "legs : 4\n",
            "age : 3\n",
            "kids : 1\n",
            "tail : 1\n"
          ],
          "name": "stdout"
        }
      ]
    },
    {
      "cell_type": "code",
      "metadata": {
        "colab": {
          "base_uri": "https://localhost:8080/"
        },
        "id": "kgH8t21PYXFY",
        "outputId": "50fd9ac2-1385-4775-a5d2-48107211cd9c"
      },
      "source": [
        "#86 write a program to use custom self parameter\r\n",
        "class Employee:\r\n",
        "    def __init__(person, id, name):\r\n",
        "        person.id = id\r\n",
        "        person.name = name\r\n",
        " \r\n",
        "    def print_details(emp):\r\n",
        "        print(str(emp.id) + ' : ' + emp.name)\r\n",
        " \r\n",
        "emp = Employee(1, 'Mahesh R')\r\n",
        "emp.print_details()"
      ],
      "execution_count": 87,
      "outputs": [
        {
          "output_type": "stream",
          "text": [
            "1 : Mahesh R\n"
          ],
          "name": "stdout"
        }
      ]
    },
    {
      "cell_type": "code",
      "metadata": {
        "colab": {
          "base_uri": "https://localhost:8080/"
        },
        "id": "JE5n91LHYXJd",
        "outputId": "fac3ef06-0a17-4232-a4cc-5f7ff6f0fa79"
      },
      "source": [
        "#87 write a program to check if a string is a number\r\n",
        "input = '-34548'\r\n",
        "negative = False\r\n",
        "if(input[0] == '-'):\r\n",
        "    negative = True\r\n",
        "\r\n",
        "if negative == True:\r\n",
        "    input = input[1:]\r\n",
        "  \r\n",
        "try:\r\n",
        "    n = int(input)\r\n",
        "    print(True)\r\n",
        "except ValueError:\r\n",
        "    print(False)"
      ],
      "execution_count": 88,
      "outputs": [
        {
          "output_type": "stream",
          "text": [
            "True\n"
          ],
          "name": "stdout"
        }
      ]
    },
    {
      "cell_type": "code",
      "metadata": {
        "colab": {
          "base_uri": "https://localhost:8080/"
        },
        "id": "w-tLNbGIYXLy",
        "outputId": "30713ae8-d579-4e98-98e8-6d86f3736796"
      },
      "source": [
        "#88 write a program to remove duplicate tuples from list of tuples\r\n",
        "lst = [(1, 2), (5, 7), (3, 6), (1, 2)]\r\n",
        "print(list(set([i for i in lst])))"
      ],
      "execution_count": 121,
      "outputs": [
        {
          "output_type": "stream",
          "text": [
            "[(1, 2), (5, 7), (3, 6)]\n"
          ],
          "name": "stdout"
        }
      ]
    },
    {
      "cell_type": "code",
      "metadata": {
        "colab": {
          "base_uri": "https://localhost:8080/"
        },
        "id": "UrhyKKGlYceF",
        "outputId": "3cf90a3e-bb2f-4ec8-91e7-7d86c6868896"
      },
      "source": [
        "#89 write a program to concatenate tuples to nested tuples\r\n",
        "input1 = (3, 4)\r\n",
        "input2 = (5, 6)\r\n",
        "  \r\n",
        "output = ((input1, ) + (input2, ))\r\n",
        "print(output)"
      ],
      "execution_count": 122,
      "outputs": [
        {
          "output_type": "stream",
          "text": [
            "((3, 4), (5, 6))\n"
          ],
          "name": "stdout"
        }
      ]
    },
    {
      "cell_type": "code",
      "metadata": {
        "colab": {
          "base_uri": "https://localhost:8080/"
        },
        "id": "0BUouaQ5YcmY",
        "outputId": "ba92fc11-a8af-438d-f1a4-423e1fc4ff41"
      },
      "source": [
        "#90 write a program to find the difference between sum of cubes and sum of first N natural numbers\r\n",
        "n = 6\r\n",
        "Sum = (n * (n + 1)) // 2\r\n",
        "\r\n",
        "output = Sum * (Sum - 1)\r\n",
        "print(output)"
      ],
      "execution_count": 123,
      "outputs": [
        {
          "output_type": "stream",
          "text": [
            "420\n"
          ],
          "name": "stdout"
        }
      ]
    },
    {
      "cell_type": "code",
      "metadata": {
        "colab": {
          "base_uri": "https://localhost:8080/"
        },
        "id": "lHu38p3ZYeiG",
        "outputId": "085928ed-65ef-42a2-ade5-c678f8987004"
      },
      "source": [
        "#91 write a program to check whether a given string is Heterogram or not\r\n",
        "input = 'the big dwarf only jumps'\r\n",
        "alphabets = [ ch for ch in input if ( ord(ch) >= ord('a') and ord(ch) <= ord('z') )] \r\n",
        "  \r\n",
        "if len(set(alphabets))==len(alphabets): \r\n",
        "    print ('Yes') \r\n",
        "else: \r\n",
        "    print ('No') "
      ],
      "execution_count": 125,
      "outputs": [
        {
          "output_type": "stream",
          "text": [
            "Yes\n"
          ],
          "name": "stdout"
        }
      ]
    },
    {
      "cell_type": "code",
      "metadata": {
        "colab": {
          "base_uri": "https://localhost:8080/"
        },
        "id": "w8-Sfz0CYemb",
        "outputId": "1c3d636e-99d0-41b8-febc-dd2625b33903"
      },
      "source": [
        "#92 write a program to check if a string is a valid python keyword\r\n",
        "import keyword\r\n",
        "\r\n",
        "string = \"Mahesh\"\r\n",
        "# print(keyword.kwlist)\r\n",
        "if string in keyword.kwlist:\r\n",
        "  print(True)\r\n",
        "else:\r\n",
        "  print(False)"
      ],
      "execution_count": 128,
      "outputs": [
        {
          "output_type": "stream",
          "text": [
            "False\n"
          ],
          "name": "stdout"
        }
      ]
    },
    {
      "cell_type": "code",
      "metadata": {
        "colab": {
          "base_uri": "https://localhost:8080/"
        },
        "id": "eMj2E2BrYeqW",
        "outputId": "74ed0105-c412-4889-e72e-607427494ab7"
      },
      "source": [
        "#93 write a program to find the sum of first n natural numbers\r\n",
        "n = 6\r\n",
        "# To prevent overflow\r\n",
        "if (n % 2 == 0) : \r\n",
        "    output = (n / 2) * (n + 1) \r\n",
        "else : \r\n",
        "    output = ((n + 1) / 2) * n \r\n",
        "         \r\n",
        "print(int(output))"
      ],
      "execution_count": 131,
      "outputs": [
        {
          "output_type": "stream",
          "text": [
            "21\n"
          ],
          "name": "stdout"
        }
      ]
    },
    {
      "cell_type": "code",
      "metadata": {
        "colab": {
          "base_uri": "https://localhost:8080/"
        },
        "id": "QMcdozv5YetJ",
        "outputId": "90213089-15f3-4c17-d491-89eec0f6624f"
      },
      "source": [
        "#94 write a program to display the basic trignometric functions\r\n",
        "import math\r\n",
        "  \r\n",
        "a = math.pi/6\r\n",
        "   \r\n",
        "# sin\r\n",
        "print (math.sin(a))\r\n",
        "   \r\n",
        "# cos\r\n",
        "print (math.cos(a))\r\n",
        "\r\n",
        "#tan\r\n",
        "print (math.tan(a))"
      ],
      "execution_count": 132,
      "outputs": [
        {
          "output_type": "stream",
          "text": [
            "0.49999999999999994\n",
            "0.8660254037844387\n",
            "0.5773502691896257\n"
          ],
          "name": "stdout"
        }
      ]
    },
    {
      "cell_type": "code",
      "metadata": {
        "colab": {
          "base_uri": "https://localhost:8080/"
        },
        "id": "xhtgR8ByYew1",
        "outputId": "e492e7aa-1414-4a0c-f22c-64d4a534af93"
      },
      "source": [
        "#95 write a program to retrieve numbers from a mixed string and display the highest (using regex)\r\n",
        "import re\r\n",
        "\r\n",
        "input = '100klh564abc365bg'\r\n",
        "numbers = re.findall('\\d+',input)\r\n",
        "print(numbers)\r\n",
        "numbers = map(int,numbers)\r\n",
        "print(max(numbers))"
      ],
      "execution_count": 134,
      "outputs": [
        {
          "output_type": "stream",
          "text": [
            "['100', '564', '365']\n",
            "564\n"
          ],
          "name": "stdout"
        }
      ]
    },
    {
      "cell_type": "code",
      "metadata": {
        "colab": {
          "base_uri": "https://localhost:8080/"
        },
        "id": "dqcdBvBpYe1L",
        "outputId": "50180731-51ef-484b-d7c5-96c46568c999"
      },
      "source": [
        "#96 write a program extract dictionaries with Empty String value in K key\r\n",
        "input = [{\"Abc\" : \"4\", \"is\" : \"good\", \"best\" : \"1\"},\r\n",
        "             {\"Abc\" : \"\", \"is\" : \"better\", \"best\" : \"8\"},\r\n",
        "             {\"Abc\" : \"9\", \"is\" : \"CS\", \"best\" : \"10\"}]\r\n",
        "K = \"Abc\"\r\n",
        "  \r\n",
        "output = list(filter(lambda sub: sub[K] == '', input))\r\n",
        "print(output)"
      ],
      "execution_count": 136,
      "outputs": [
        {
          "output_type": "stream",
          "text": [
            "[{'Abc': '', 'is': 'better', 'best': '8'}]\n"
          ],
          "name": "stdout"
        }
      ]
    },
    {
      "cell_type": "code",
      "metadata": {
        "colab": {
          "base_uri": "https://localhost:8080/"
        },
        "id": "i1WsSSTvYe4U",
        "outputId": "fc8bbd73-8590-4a47-ca16-954d4add380d"
      },
      "source": [
        "#97 write a program for maximum pair sum in a string\r\n",
        "input = '6543452345456997653234'\r\n",
        "  \r\n",
        "input = list(input)\r\n",
        "output = max(int(a) + int(b) for a, b in zip(input, input[1:]))\r\n",
        "print(output)"
      ],
      "execution_count": 141,
      "outputs": [
        {
          "output_type": "stream",
          "text": [
            "18\n"
          ],
          "name": "stdout"
        }
      ]
    },
    {
      "cell_type": "code",
      "metadata": {
        "colab": {
          "base_uri": "https://localhost:8080/"
        },
        "id": "8IGXODSTYjVb",
        "outputId": "2e8ea706-1e74-4bd0-eddb-f3105677f230"
      },
      "source": [
        "#98 write a program to extract tuples with only numbers\r\n",
        "input = [(\"90\", \"34\"), (\"tsai\", \"2\"), (\"55\", \"1\"), (\"rohan\", \"zoheb\")] \r\n",
        "  \r\n",
        "output = list(filter(lambda sub : all(ele.isdigit() for ele in sub), input)) \r\n",
        "print(output)"
      ],
      "execution_count": 142,
      "outputs": [
        {
          "output_type": "stream",
          "text": [
            "[('90', '34'), ('55', '1')]\n"
          ],
          "name": "stdout"
        }
      ]
    },
    {
      "cell_type": "code",
      "metadata": {
        "colab": {
          "base_uri": "https://localhost:8080/"
        },
        "id": "hAjG46hFYjcl",
        "outputId": "635100bb-614a-40c6-889f-389569d59f0d"
      },
      "source": [
        "#99 write a program to show the differences between two lists\r\n",
        "list1 = [1, 2, 3, 4, 5, 6] \r\n",
        "list2 = [4, 5, 6, 7, 8] \r\n",
        "  \r\n",
        "# prints the missing and additional elements in list2  \r\n",
        "print(\"Missing values in second list:\", (set(list1).difference(list2))) \r\n",
        "print(\"Additional values in second list:\", (set(list2).difference(list1))) \r\n",
        "  \r\n",
        "# prints the missing and additional elements in list1 \r\n",
        "print(\"Missing values in first list:\", (set(list2).difference(list1))) \r\n",
        "print(\"Additional values in first list:\", (set(list1).difference(list2))) "
      ],
      "execution_count": 143,
      "outputs": [
        {
          "output_type": "stream",
          "text": [
            "Missing values in second list: {1, 2, 3}\n",
            "Additional values in second list: {7, 8}\n",
            "Missing values in first list: {7, 8}\n",
            "Additional values in first list: {1, 2, 3}\n"
          ],
          "name": "stdout"
        }
      ]
    },
    {
      "cell_type": "code",
      "metadata": {
        "colab": {
          "base_uri": "https://localhost:8080/"
        },
        "id": "SHdxqNaDYjjX",
        "outputId": "398b2e7d-7959-44c2-b2c5-448e2ca3f5c4"
      },
      "source": [
        "#100 write a program to remove tuples having duplicate first value from given list of tuples\r\n",
        "input = [(1, 'TSAI is best'),  \r\n",
        "         (2, 'India is best'),  \r\n",
        "         (3, 'Karnataka is best.'),  \r\n",
        "         (2, 'Pak is best')] \r\n",
        "  \r\n",
        "seen = set() \r\n",
        "  \r\n",
        "output = [(a, b) for a, b in input \r\n",
        "         if not (a in seen or seen.add(a))] \r\n",
        "print(output)"
      ],
      "execution_count": 149,
      "outputs": [
        {
          "output_type": "stream",
          "text": [
            "[(1, 'TSAI is best'), (2, 'India is best'), (3, 'Karnataka is best.')]\n"
          ],
          "name": "stdout"
        }
      ]
    }
  ]
}