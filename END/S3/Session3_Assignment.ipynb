{
  "nbformat": 4,
  "nbformat_minor": 0,
  "metadata": {
    "colab": {
      "name": "Session3_Assignment.ipynb",
      "provenance": [],
      "collapsed_sections": [
        "ufx9yPc8MSei",
        "z6DsRKSdT25r",
        "-xqxA4swljAP",
        "WGMb74GKjaVB",
        "L9XsyaXflsYB",
        "9j_0zlhfVtdE",
        "ZMiHizSFdYrR",
        "fXUVyCjGdoLM",
        "Ry0AGil0hxk0",
        "RQ2i2VGvloDn",
        "Q5TojeE-tUBo",
        "hWaKlktvtgom"
      ]
    },
    "kernelspec": {
      "name": "python3",
      "display_name": "Python 3"
    }
  },
  "cells": [
    {
      "cell_type": "markdown",
      "metadata": {
        "id": "eIKPDyQ-MAxx"
      },
      "source": [
        "#Assignment "
      ]
    },
    {
      "cell_type": "markdown",
      "metadata": {
        "id": "ufx9yPc8MSei"
      },
      "source": [
        "### Fibonacci"
      ]
    },
    {
      "cell_type": "code",
      "metadata": {
        "id": "0XvIVW_Ftcf3",
        "outputId": "cc51d23b-e1a7-48ed-a814-3771dc9b612f",
        "colab": {
          "base_uri": "https://localhost:8080/"
        }
      },
      "source": [
        "try:\n",
        "  y = int(input('Enter a number: '))\n",
        "  fb_list = [0, 1]\n",
        "  fb_number = 1\n",
        "  while fb_number < 10000:\n",
        "    fb_list.append(fb_number)\n",
        "    fb_number = sum(fb_list[-2:])\n",
        "  # print(fb_list)\n",
        "  output = list(filter(lambda x: (x == y), fb_list))\n",
        "  if not output:\n",
        "    print(\"Input is not a Fibonacci number under 10000\")\n",
        "  else:\n",
        "    print(\"Input is a Fibonacci number\")\n",
        "except:\n",
        "  print(\"Input is not a valid number\")"
      ],
      "execution_count": 292,
      "outputs": [
        {
          "output_type": "stream",
          "text": [
            "Enter a number: 1\n",
            "Input is a Fibonacci number\n"
          ],
          "name": "stdout"
        }
      ]
    },
    {
      "cell_type": "markdown",
      "metadata": {
        "id": "eyvXNvHxOwSM"
      },
      "source": [
        "### List Comprehensions"
      ]
    },
    {
      "cell_type": "markdown",
      "metadata": {
        "id": "z6DsRKSdT25r"
      },
      "source": [
        "#### Add iterables a and b"
      ]
    },
    {
      "cell_type": "code",
      "metadata": {
        "id": "4b1GGasyPduX",
        "outputId": "f08d6c87-8891-49ff-cd72-6fd8a10a68b5",
        "colab": {
          "base_uri": "https://localhost:8080/"
        }
      },
      "source": [
        "l1 = random.sample(range(0, 30), 10)\n",
        "l2 = random.sample(range(0, 30), 10)\n",
        "# print(l1)\n",
        "# print(l2)\n",
        "a = list(filter(lambda x: x%2 == 0, l1))\n",
        "b = list(filter(lambda x: x%2 != 0, l2))\n",
        "print(a)\n",
        "print(b)\n",
        "\n",
        "result = [x + y for x, y in zip(a, b)]\n",
        "print(result)"
      ],
      "execution_count": 310,
      "outputs": [
        {
          "output_type": "stream",
          "text": [
            "[8, 2, 26, 10, 22, 20]\n",
            "[29, 19, 5, 7, 23]\n",
            "[37, 21, 31, 17, 45]\n"
          ],
          "name": "stdout"
        }
      ]
    },
    {
      "cell_type": "markdown",
      "metadata": {
        "id": "-xqxA4swljAP"
      },
      "source": [
        "#### Strip all vowels from a string"
      ]
    },
    {
      "cell_type": "code",
      "metadata": {
        "id": "GG0n5HRuloXr",
        "outputId": "5b57cdcf-014d-4ad8-aec3-e9f9ec5101e8",
        "colab": {
          "base_uri": "https://localhost:8080/"
        }
      },
      "source": [
        "y = input('Enter a string: ')\n",
        "vowel_list = ['a','e','i','o','u']\n",
        "output = list(filter(lambda x: (x.lower() not in vowel_list), y))\n",
        "print(''.join(output))"
      ],
      "execution_count": null,
      "outputs": [
        {
          "output_type": "stream",
          "text": [
            "Enter a string: Test\n",
            "Tst\n"
          ],
          "name": "stdout"
        }
      ]
    },
    {
      "cell_type": "markdown",
      "metadata": {
        "id": "WGMb74GKjaVB"
      },
      "source": [
        "#### ReLU function"
      ]
    },
    {
      "cell_type": "code",
      "metadata": {
        "id": "5bGE26ZvjiZg",
        "outputId": "219f1a1f-f86c-45c6-f671-47b656be6270",
        "colab": {
          "base_uri": "https://localhost:8080/",
          "height": 347
        }
      },
      "source": [
        "import matplotlib.pyplot as plt\n",
        "\n",
        "def ReLU(n):\n",
        "    return n if n > 0 else 0\n",
        "\n",
        "x = random.sample(range(-100, 100), 10)\n",
        "print('1D array:', x)\n",
        "print('1D array (sorted):', sorted(x))\n",
        "\n",
        "output = [ReLU(n) for n in x]\n",
        "print('ReLU output:', output)\n",
        "print('ReLU output (sorted):', sorted(output))\n",
        "\n",
        "plt.plot(sorted(x), sorted(output)) \n",
        "plt.xlabel(\"x\") \n",
        "plt.ylabel(\"ReLU(X)\") \n",
        "plt.show() "
      ],
      "execution_count": 280,
      "outputs": [
        {
          "output_type": "stream",
          "text": [
            "1D array: [13, -63, -1, -65, 10, 68, -32, -9, 19, -71]\n",
            "1D array (sorted): [-71, -65, -63, -32, -9, -1, 10, 13, 19, 68]\n",
            "ReLU output: [13, 0, 0, 0, 10, 68, 0, 0, 19, 0]\n",
            "ReLU output (sorted): [0, 0, 0, 0, 0, 0, 10, 13, 19, 68]\n"
          ],
          "name": "stdout"
        },
        {
          "output_type": "display_data",
          "data": {
            "image/png": "[encoded data removed]",
            "text/plain": [
              "<Figure size 432x288 with 1 Axes>"
            ]
          },
          "metadata": {
            "tags": [],
            "needs_background": "light"
          }
        }
      ]
    },
    {
      "cell_type": "markdown",
      "metadata": {
        "id": "L9XsyaXflsYB"
      },
      "source": [
        "#### Sigmoid function"
      ]
    },
    {
      "cell_type": "code",
      "metadata": {
        "id": "xJWOV-tAlwD_",
        "outputId": "0bc8cc86-02d8-46dc-ffd9-b469386ab7a0",
        "colab": {
          "base_uri": "https://localhost:8080/",
          "height": 367
        }
      },
      "source": [
        "import math\n",
        "\n",
        "def Sigmoid(n):\n",
        "    return 1 / (1 + math.exp(-n)) #limited to 5 decimals\n",
        "\n",
        "y = random.sample(range(-100, 100), 10)\n",
        "print('1D array:', y)\n",
        "print('1D array (sorted):', sorted(y))\n",
        "\n",
        "output = [Sigmoid(n) for n in y]\n",
        "print('Sigmoid output:', output)\n",
        "print('Sigmoid output (sorted):', sorted(output))\n",
        "\n",
        "plt.plot(sorted(y), sorted(output)) \n",
        "plt.xlabel(\"x\") \n",
        "plt.ylabel(\"ReLU(X)\") \n",
        "plt.show() "
      ],
      "execution_count": 281,
      "outputs": [
        {
          "output_type": "stream",
          "text": [
            "1D array: [-26, -88, -69, -77, 72, -89, -43, -65, 34, 49]\n",
            "1D array (sorted): [-89, -88, -77, -69, -65, -43, -26, 34, 49, 72]\n",
            "Sigmoid output: [5.109089028037221e-12, 6.054601895401186e-39, 1.0806392777072785e-30, 3.625140919143559e-34, 1.0, 2.2273635617957434e-39, 2.1151310375910807e-19, 5.900090541597061e-29, 0.9999999999999982, 1.0]\n",
            "Sigmoid output (sorted): [2.2273635617957434e-39, 6.054601895401186e-39, 3.625140919143559e-34, 1.0806392777072785e-30, 5.900090541597061e-29, 2.1151310375910807e-19, 5.109089028037221e-12, 0.9999999999999982, 1.0, 1.0]\n"
          ],
          "name": "stdout"
        },
        {
          "output_type": "display_data",
          "data": {
            "image/png": "[encoded data removed]",
            "text/plain": [
              "<Figure size 432x288 with 1 Axes>"
            ]
          },
          "metadata": {
            "tags": [],
            "needs_background": "light"
          }
        }
      ]
    },
    {
      "cell_type": "markdown",
      "metadata": {
        "id": "9j_0zlhfVtdE"
      },
      "source": [
        "#### Shift characters by 5"
      ]
    },
    {
      "cell_type": "code",
      "metadata": {
        "id": "4Nl22Gw5VLrh",
        "outputId": "a602454f-9593-4ae8-d4b6-963fdda585e8",
        "colab": {
          "base_uri": "https://localhost:8080/"
        }
      },
      "source": [
        "  y = input('Enter a string: ')\n",
        "  output = \"Enter a characters only string\"\n",
        "  if str.isalpha(y):\n",
        "    output = ''.join(chr(((ord(char) - (65 if char.isupper() else 97) + 5) % 26) + (65 if char.isupper() else 97)) for char in y)\n",
        "  print(output)"
      ],
      "execution_count": 300,
      "outputs": [
        {
          "output_type": "stream",
          "text": [
            "Enter a string: XYZabcdfEKIl\n",
            "CDEfghikJPNq\n"
          ],
          "name": "stdout"
        }
      ]
    },
    {
      "cell_type": "markdown",
      "metadata": {
        "id": "ZMiHizSFdYrR"
      },
      "source": [
        "### Check for swear words"
      ]
    },
    {
      "cell_type": "code",
      "metadata": {
        "id": "R3ns1vfwN4ar",
        "outputId": "e257a0b4-7c76-4f55-8a4e-517774473120",
        "colab": {
          "base_uri": "https://localhost:8080/"
        }
      },
      "source": [
        "swear_words = ['4r5e',\n",
        "'5h1t',\n",
        "'5hit',\n",
        "'a55',\n",
        "'anal',\n",
        "'anus',\n",
        "'ar5e',\n",
        "'arrse',\n",
        "'arse',\n",
        "'ass',\n",
        "'ass-fucker',\n",
        "'asses',\n",
        "'assfucker',\n",
        "'assfukka',\n",
        "'asshole',\n",
        "'assholes',\n",
        "'asswhole',\n",
        "'a_s_s',\n",
        "'b!tch',\n",
        "'b00bs',\n",
        "'b17ch',\n",
        "'b1tch',\n",
        "'ballbag',\n",
        "'balls',\n",
        "'ballsack',\n",
        "'bastard',\n",
        "'beastial',\n",
        "'beastiality',\n",
        "'bellend',\n",
        "'bestial',\n",
        "'bestiality',\n",
        "'bi+ch',\n",
        "'biatch',\n",
        "'bitch',\n",
        "'bitcher',\n",
        "'bitchers',\n",
        "'bitches',\n",
        "'bitchin',\n",
        "'bitching',\n",
        "'bloody',\n",
        "'blow job',\n",
        "'blowjob',\n",
        "'blowjobs',\n",
        "'boiolas',\n",
        "'bollock',\n",
        "'bollok',\n",
        "'boner',\n",
        "'boob',\n",
        "'boobs',\n",
        "'booobs',\n",
        "'boooobs',\n",
        "'booooobs',\n",
        "'booooooobs',\n",
        "'breasts',\n",
        "'buceta',\n",
        "'bugger',\n",
        "'bum',\n",
        "'bunny fucker',\n",
        "'butt',\n",
        "'butthole',\n",
        "'buttmunch',\n",
        "'buttplug',\n",
        "'c0ck',\n",
        "'c0cksucker',\n",
        "'carpet muncher',\n",
        "'cawk',\n",
        "'chink',\n",
        "'cipa',\n",
        "'cl1t',\n",
        "'clit',\n",
        "'clitoris',\n",
        "'clits',\n",
        "'cnut',\n",
        "'cock',\n",
        "'cock-sucker',\n",
        "'cockface',\n",
        "'cockhead',\n",
        "'cockmunch',\n",
        "'cockmuncher',\n",
        "'cocks',\n",
        "'cocksuck',\n",
        "'cocksucked',\n",
        "'cocksucker',\n",
        "'cocksucking',\n",
        "'cocksucks',\n",
        "'cocksuka',\n",
        "'cocksukka',\n",
        "'cok',\n",
        "'cokmuncher',\n",
        "'coksucka',\n",
        "'coon',\n",
        "'cox',\n",
        "'crap',\n",
        "'cum',\n",
        "'cummer',\n",
        "'cumming',\n",
        "'cums',\n",
        "'cumshot',\n",
        "'cunilingus',\n",
        "'cunillingus',\n",
        "'cunnilingus',\n",
        "'cunt',\n",
        "'cuntlick',\n",
        "'cuntlicker',\n",
        "'cuntlicking',\n",
        "'cunts',\n",
        "'cyalis',\n",
        "'cyberfuc',\n",
        "'cyberfuck',\n",
        "'cyberfucked',\n",
        "'cyberfucker',\n",
        "'cyberfuckers',\n",
        "'cyberfucking',\n",
        "'d1ck',\n",
        "'damn',\n",
        "'dick',\n",
        "'dickhead',\n",
        "'dildo',\n",
        "'dildos',\n",
        "'dink',\n",
        "'dinks',\n",
        "'dirsa',\n",
        "'dlck',\n",
        "'dog-fucker',\n",
        "'doggin',\n",
        "'dogging',\n",
        "'donkeyribber',\n",
        "'doosh',\n",
        "'duche',\n",
        "'dyke',\n",
        "'ejaculate',\n",
        "'ejaculated',\n",
        "'ejaculates',\n",
        "'ejaculating',\n",
        "'ejaculatings',\n",
        "'ejaculation',\n",
        "'ejakulate',\n",
        "'f u c k',\n",
        "'f u c k e r',\n",
        "'f4nny',\n",
        "'fag',\n",
        "'fagging',\n",
        "'faggitt',\n",
        "'faggot',\n",
        "'faggs',\n",
        "'fagot',\n",
        "'fagots',\n",
        "'fags',\n",
        "'fanny',\n",
        "'fannyflaps',\n",
        "'fannyfucker',\n",
        "'fanyy',\n",
        "'fatass',\n",
        "'fcuk',\n",
        "'fcuker',\n",
        "'fcuking',\n",
        "'feck',\n",
        "'fecker',\n",
        "'felching',\n",
        "'fellate',\n",
        "'fellatio',\n",
        "'fingerfuck',\n",
        "'fingerfucked',\n",
        "'fingerfucker',\n",
        "'fingerfuckers',\n",
        "'fingerfucking',\n",
        "'fingerfucks',\n",
        "'fistfuck',\n",
        "'fistfucked',\n",
        "'fistfucker',\n",
        "'fistfuckers',\n",
        "'fistfucking',\n",
        "'fistfuckings',\n",
        "'fistfucks',\n",
        "'flange',\n",
        "'fook',\n",
        "'fooker',\n",
        "'fuck',\n",
        "'fucka',\n",
        "'fucked',\n",
        "'fucker',\n",
        "'fuckers',\n",
        "'fuckhead',\n",
        "'fuckheads',\n",
        "'fuckin',\n",
        "'fucking',\n",
        "'fuckings',\n",
        "'fuckingshitmotherfucker',\n",
        "'fuckme',\n",
        "'fucks',\n",
        "'fuckwhit',\n",
        "'fuckwit',\n",
        "'fudge packer',\n",
        "'fudgepacker',\n",
        "'fuk',\n",
        "'fuker',\n",
        "'fukker',\n",
        "'fukkin',\n",
        "'fuks',\n",
        "'fukwhit',\n",
        "'fukwit',\n",
        "'fux',\n",
        "'fux0r',\n",
        "'f_u_c_k',\n",
        "'gangbang',\n",
        "'gangbanged',\n",
        "'gangbangs',\n",
        "'gaylord',\n",
        "'gaysex',\n",
        "'goatse',\n",
        "'God',\n",
        "'god-dam',\n",
        "'god-damned',\n",
        "'goddamn',\n",
        "'goddamned',\n",
        "'hardcoresex',\n",
        "'hell',\n",
        "'heshe',\n",
        "'hoar',\n",
        "'hoare',\n",
        "'hoer',\n",
        "'homo',\n",
        "'hore',\n",
        "'horniest',\n",
        "'horny',\n",
        "'hotsex',\n",
        "'jack-off',\n",
        "'jackoff',\n",
        "'jap',\n",
        "'jerk-off',\n",
        "'jism',\n",
        "'jiz',\n",
        "'jizm',\n",
        "'jizz',\n",
        "'kawk',\n",
        "'knob',\n",
        "'knobead',\n",
        "'knobed',\n",
        "'knobend',\n",
        "'knobhead',\n",
        "'knobjocky',\n",
        "'knobjokey',\n",
        "'kock',\n",
        "'kondum',\n",
        "'kondums',\n",
        "'kum',\n",
        "'kummer',\n",
        "'kumming',\n",
        "'kums',\n",
        "'kunilingus',\n",
        "'l3i+ch',\n",
        "'l3itch',\n",
        "'labia',\n",
        "'lmfao',\n",
        "'lust',\n",
        "'lusting',\n",
        "'m0f0',\n",
        "'m0fo',\n",
        "'m45terbate',\n",
        "'ma5terb8',\n",
        "'ma5terbate',\n",
        "'masochist',\n",
        "'master-bate',\n",
        "'masterb8',\n",
        "'masterbat*',\n",
        "'masterbat3',\n",
        "'masterbate',\n",
        "'masterbation',\n",
        "'masterbations',\n",
        "'masturbate',\n",
        "'mo-fo',\n",
        "'mof0',\n",
        "'mofo',\n",
        "'mothafuck',\n",
        "'mothafucka',\n",
        "'mothafuckas',\n",
        "'mothafuckaz',\n",
        "'mothafucked',\n",
        "'mothafucker',\n",
        "'mothafuckers',\n",
        "'mothafuckin',\n",
        "'mothafucking',\n",
        "'mothafuckings',\n",
        "'mothafucks',\n",
        "'mother fucker',\n",
        "'motherfuck',\n",
        "'motherfucked',\n",
        "'motherfucker',\n",
        "'motherfuckers',\n",
        "'motherfuckin',\n",
        "'motherfucking',\n",
        "'motherfuckings',\n",
        "'motherfuckka',\n",
        "'motherfucks',\n",
        "'muff',\n",
        "'mutha',\n",
        "'muthafecker',\n",
        "'muthafuckker',\n",
        "'muther',\n",
        "'mutherfucker',\n",
        "'n1gga',\n",
        "'n1gger',\n",
        "'nazi',\n",
        "'nigg3r',\n",
        "'nigg4h',\n",
        "'nigga',\n",
        "'niggah',\n",
        "'niggas',\n",
        "'niggaz',\n",
        "'nigger',\n",
        "'niggers',\n",
        "'nob',\n",
        "'nob jokey',\n",
        "'nobhead',\n",
        "'nobjocky',\n",
        "'nobjokey',\n",
        "'numbnuts',\n",
        "'nutsack',\n",
        "'orgasim',\n",
        "'orgasims',\n",
        "'orgasm',\n",
        "'orgasms',\n",
        "'p0rn',\n",
        "'pawn',\n",
        "'pecker',\n",
        "'penis',\n",
        "'penisfucker',\n",
        "'phonesex',\n",
        "'phuck',\n",
        "'phuk',\n",
        "'phuked',\n",
        "'phuking',\n",
        "'phukked',\n",
        "'phukking',\n",
        "'phuks',\n",
        "'phuq',\n",
        "'pigfucker',\n",
        "'pimpis',\n",
        "'piss',\n",
        "'pissed',\n",
        "'pisser',\n",
        "'pissers',\n",
        "'pisses',\n",
        "'pissflaps',\n",
        "'pissin',\n",
        "'pissing',\n",
        "'pissoff',\n",
        "'poop',\n",
        "'porn',\n",
        "'porno',\n",
        "'pornography',\n",
        "'pornos',\n",
        "'prick',\n",
        "'pricks',\n",
        "'pron',\n",
        "'pube',\n",
        "'pusse',\n",
        "'pussi',\n",
        "'pussies',\n",
        "'pussy',\n",
        "'pussys',\n",
        "'rectum',\n",
        "'retard',\n",
        "'rimjaw',\n",
        "'rimming',\n",
        "'s hit',\n",
        "'s.o.b.',\n",
        "'sadist',\n",
        "'schlong',\n",
        "'screwing',\n",
        "'scroat',\n",
        "'scrote',\n",
        "'scrotum',\n",
        "'semen',\n",
        "'sex',\n",
        "'sh!+',\n",
        "'sh!t',\n",
        "'sh1t',\n",
        "'shag',\n",
        "'shagger',\n",
        "'shaggin',\n",
        "'shagging',\n",
        "'shemale',\n",
        "'shi+',\n",
        "'shit',\n",
        "'shitdick',\n",
        "'shite',\n",
        "'shited',\n",
        "'shitey',\n",
        "'shitfuck',\n",
        "'shitfull',\n",
        "'shithead',\n",
        "'shiting',\n",
        "'shitings',\n",
        "'shits',\n",
        "'shitted',\n",
        "'shitter',\n",
        "'shitters',\n",
        "'shitting',\n",
        "'shittings',\n",
        "'shitty',\n",
        "'skank',\n",
        "'slut',\n",
        "'sluts',\n",
        "'smegma',\n",
        "'smut',\n",
        "'snatch',\n",
        "'son-of-a-bitch',\n",
        "'spac',\n",
        "'spunk',\n",
        "'s_h_i_t',\n",
        "'t1tt1e5',\n",
        "'t1tties',\n",
        "'teets',\n",
        "'teez',\n",
        "'testical',\n",
        "'testicle',\n",
        "'tit',\n",
        "'titfuck',\n",
        "'tits',\n",
        "'titt',\n",
        "'tittie5',\n",
        "'tittiefucker',\n",
        "'titties',\n",
        "'tittyfuck',\n",
        "'tittywank',\n",
        "'titwank',\n",
        "'tosser',\n",
        "'turd',\n",
        "'tw4t',\n",
        "'twat',\n",
        "'twathead',\n",
        "'twatty',\n",
        "'twunt',\n",
        "'twunter',\n",
        "'v14gra',\n",
        "'v1gra',\n",
        "'vagina',\n",
        "'viagra',\n",
        "'vulva',\n",
        "'w00se',\n",
        "'wang',\n",
        "'wank',\n",
        "'wanker',\n",
        "'wanky',\n",
        "'whoar',\n",
        "'whore',\n",
        "'willies',\n",
        "'willy',\n",
        "'xrated',\n",
        "'xxx']\n",
        "\n",
        "import nltk\n",
        "from nltk import word_tokenize\n",
        "nltk.download('punkt')\n",
        "\n",
        "paragraph = \"\"\"As the billionaire Mistry clan and the Tata conglomerate head for a bitter split, they are already preparing for their next battle: the value of a stake in Tata Sons Pvt., which is at the center of India’s biggest corporate feud. \n",
        "\n",
        "The Mistry family-owned Shapoorji Pallonji Group holds 18.4% of the holding company of the software-to-trucks Tata empire, and wants to sell it and raise funds for its own cash-strapped businesses. It had previously sought to pledge the shares as collateral, but was blocked this week when Tata told the Supreme Court it was open to buying the stock itself if Mistrys needed money. \n",
        "\n",
        "But the focus of the years-long dispute could now shift to what each party thinks is the fair valuation of the stake. While court filings peg it at more than 1.5 trillion rupees ($20.3 billion), the eventual deal value will depend on which side can drive a hard bargain.\n",
        "\n",
        "The indebted SP Group, with upcoming debt maturities, may prefer a quick deal. Even at depressed valuations, it won’t be easy for the Tata Group or any other investor to fork out such a sum at a time when many economies, including India’s, have been ravaged by the coronavirus pandemic.\"\"\"\n",
        "\n",
        "word = word_tokenize(paragraph) #word_tokenize returned words without punctuations compared to str.split()\n",
        "output = list(filter(lambda x: (x.lower() in swear_words), word))\n",
        "\n",
        "if not output:\n",
        "  print('No swear words mentioned')\n",
        "else:\n",
        "  print('Swear words present')"
      ],
      "execution_count": 261,
      "outputs": [
        {
          "output_type": "stream",
          "text": [
            "[nltk_data] Downloading package punkt to /root/nltk_data...\n",
            "[nltk_data]   Package punkt is already up-to-date!\n",
            "No swear words mentioned\n"
          ],
          "name": "stdout"
        }
      ]
    },
    {
      "cell_type": "markdown",
      "metadata": {
        "id": "8wehl7HcNyzx"
      },
      "source": [
        "### Reduce"
      ]
    },
    {
      "cell_type": "markdown",
      "metadata": {
        "id": "fXUVyCjGdoLM"
      },
      "source": [
        "#### Add even numbers in a list"
      ]
    },
    {
      "cell_type": "code",
      "metadata": {
        "id": "Fe_y1orndvyD",
        "outputId": "5d78ead1-8095-4da3-bebd-452c5b53eefc",
        "colab": {
          "base_uri": "https://localhost:8080/"
        }
      },
      "source": [
        "from functools import reduce\n",
        "import random\n",
        "\n",
        "l = random.sample(range(0, 100), 10)\n",
        "print('Random list:', l)\n",
        "print('Expected sum:', reduce(lambda x, y: x + y, list(filter(lambda x: (x % 2 == 0), l))))"
      ],
      "execution_count": 128,
      "outputs": [
        {
          "output_type": "stream",
          "text": [
            "Random list: [51, 89, 35, 12, 52, 46, 60, 93, 30, 92]\n",
            "Expected sum: 292\n"
          ],
          "name": "stdout"
        }
      ]
    },
    {
      "cell_type": "markdown",
      "metadata": {
        "id": "Ry0AGil0hxk0"
      },
      "source": [
        "#### Find biggest character in a string"
      ]
    },
    {
      "cell_type": "code",
      "metadata": {
        "id": "Gl6Yi0dslqUe",
        "outputId": "c28449b6-8316-432d-ce1c-d2bb314f9b99",
        "colab": {
          "base_uri": "https://localhost:8080/"
        }
      },
      "source": [
        "from functools import reduce\n",
        "\n",
        "def find_biggest(a, b):\n",
        "  return a if a > b else b\n",
        "\n",
        "y = input('Enter a string:')\n",
        "print(reduce(find_biggest, y))"
      ],
      "execution_count": 146,
      "outputs": [
        {
          "output_type": "stream",
          "text": [
            "Enter a string:ABCD}abcd123 ((( XYZ\n",
            "}\n"
          ],
          "name": "stdout"
        }
      ]
    },
    {
      "cell_type": "markdown",
      "metadata": {
        "id": "RQ2i2VGvloDn"
      },
      "source": [
        "#### Add every 3rd number in a list"
      ]
    },
    {
      "cell_type": "code",
      "metadata": {
        "id": "38SsURdbhzXi",
        "outputId": "34e68ae8-bd94-4b6b-f0db-0611d94c5bab",
        "colab": {
          "base_uri": "https://localhost:8080/"
        }
      },
      "source": [
        "from functools import reduce\n",
        "import random\n",
        "\n",
        "l = random.sample(range(0, 30), 10)\n",
        "print('Random list:', l)\n",
        "print('Expected sum:', reduce(lambda x, y: x + y, list(filter(lambda x: ((l.index(x) + 1) % 3 == 0), l))))"
      ],
      "execution_count": 265,
      "outputs": [
        {
          "output_type": "stream",
          "text": [
            "Random list: [20, 16, 22, 1, 2, 7, 3, 23, 18, 27]\n",
            "Expected sum: 47\n"
          ],
          "name": "stdout"
        }
      ]
    },
    {
      "cell_type": "markdown",
      "metadata": {
        "id": "Q5TojeE-tUBo"
      },
      "source": [
        "### Number plates (KA)"
      ]
    },
    {
      "cell_type": "code",
      "metadata": {
        "id": "RZIGRiCqu1at",
        "outputId": "afca6e0d-b860-42d2-b424-d349e1b5d7a9",
        "colab": {
          "base_uri": "https://localhost:8080/"
        }
      },
      "source": [
        "import random\n",
        "\n",
        "l = [['KA', str(random.randint(10, 99)), ''.join(chr(random.randint(65,90)) for _ in range(2)), str(random.randint(1000, 9999))] for _ in range(15)]\n",
        "for i in l:\n",
        "  print(''.join(i))"
      ],
      "execution_count": 202,
      "outputs": [
        {
          "output_type": "stream",
          "text": [
            "KA81XE3002\n",
            "KA77EK7965\n",
            "KA19LV3297\n",
            "KA80WT6124\n",
            "KA82FB5265\n",
            "KA66DW8327\n",
            "KA35XR8277\n",
            "KA73KR1026\n",
            "KA18EJ5882\n",
            "KA96GU5873\n",
            "KA97FP7032\n",
            "KA97PX2147\n",
            "KA30NB5245\n",
            "KA52XQ6962\n",
            "KA56VI7020\n"
          ],
          "name": "stdout"
        }
      ]
    },
    {
      "cell_type": "markdown",
      "metadata": {
        "id": "hWaKlktvtgom"
      },
      "source": [
        "### Number plates (KA, DL)"
      ]
    },
    {
      "cell_type": "code",
      "metadata": {
        "id": "veKW09EAJ-S_",
        "outputId": "33bb121d-a535-40a7-c797-7f65a28e2052",
        "colab": {
          "base_uri": "https://localhost:8080/"
        }
      },
      "source": [
        "import random\n",
        "\n",
        "l = [[random.choice(['KA', 'DL']), str(random.randint(10, 99)), ''.join(chr(random.randint(65,90)) for _ in range(2)), str(random.randint(1000, 9999))] for _ in range(15)]\n",
        "for i in l:\n",
        "  print(''.join(i))"
      ],
      "execution_count": 203,
      "outputs": [
        {
          "output_type": "stream",
          "text": [
            "KA62DH9180\n",
            "DL99YV6700\n",
            "KA71IP3188\n",
            "DL52TX5746\n",
            "KA22SJ6449\n",
            "KA46UH1500\n",
            "DL22LY4598\n",
            "KA36NI8924\n",
            "DL68GQ2322\n",
            "KA33DF7598\n",
            "DL62WC2198\n",
            "DL97OL4760\n",
            "KA24JT9305\n",
            "DL60YE6256\n",
            "DL69TL6516\n"
          ],
          "name": "stdout"
        }
      ]
    }
  ]
}